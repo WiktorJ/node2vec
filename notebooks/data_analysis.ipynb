{
 "cells": [
  {
   "cell_type": "code",
   "execution_count": 1,
   "metadata": {
    "pycharm": {
     "is_executing": false,
     "name": "#%%\n"
    }
   },
   "outputs": [],
   "source": [
    "\n",
    "import pandas as pd\n",
    "import json\n",
    "from pandas.io.json import json_normalize  \n",
    "import numpy as np\n",
    "from tabulate import tabulate"
   ]
  },
  {
   "cell_type": "code",
   "execution_count": 2,
   "metadata": {
    "pycharm": {
     "is_executing": false
    }
   },
   "outputs": [],
   "source": [
    "import matplotlib.pyplot as plt\n",
    "%matplotlib inline"
   ]
  },
  {
   "cell_type": "code",
   "execution_count": 51,
   "metadata": {},
   "outputs": [],
   "source": [
    "def stats_analysis(dft):\n",
    "    df2, df3 = dft\n",
    "#     df2 = pd.DataFrame(df.stats.values.tolist(), index=df.index.values)\n",
    "#     df3 = df2.loc[~df2.index.str.contains(\"None\")]\n",
    "    # extract time_access dict to data fram\n",
    "    df_time_access = pd.DataFrame(df3.ta.values.tolist(), index=df3.index.values)\n",
    "    df_time_access = df_time_access.fillna(0)\n",
    "    \n",
    "    # counts accesses to edges\n",
    "    counts = df_time_access.values.flatten()\n",
    "#     counts2 = counts[(counts>0) & (counts<120)]\n",
    "    counts2 = counts[(counts>0)]\n",
    "    \n",
    "    ratios = []\n",
    "    cl = len(counts2)\n",
    "    for i in range(1, 11):\n",
    "        ratios.append(len(counts2[counts2==i])/cl)\n",
    "        \n",
    "        \n",
    "    step_groupings = []\n",
    "    cs = sum(counts2)\n",
    "    for i in range(0, 21):\n",
    "        step_groupings.append((i, sum(counts2[counts2>i])/cs))\n",
    "        \n",
    "    step_groupings = np.array(step_groupings)\n",
    "    l1, l2 = zip(*step_groupings)\n",
    "    print(\"How many edges had more than X visits in the same step\")\n",
    "    print(tabulate(step_groupings))\n",
    "    \n",
    "    \n",
    "    step_groupings_pd = pd.DataFrame()\n",
    "    step_groupings_pd['bound'] = l1\n",
    "    step_groupings_pd['fraction'] = l2\n",
    "\n",
    "    print(\"avg per step\")\n",
    "    print(np.average(counts2))\n",
    "    \n",
    "    \n",
    "    print(\"median per step\")\n",
    "    print(np.median(counts2))\n",
    "    \n",
    "    plt.plot(step_groupings_pd['bound'], step_groupings_pd['fraction'])\n",
    "    plt.xlabel(\"visits per step\")\n",
    "    plt.ylabel(\"fraction of total visits\")\n",
    "    plt.show()\n",
    "    \n",
    "    \n",
    "    plt.bar(range(1,11), np.array(ratios))\n",
    "    plt.xlabel(\"traversals per step\")\n",
    "    plt.ylabel(\"fraction of total traversals\")\n",
    "    plt.show()\n",
    "    \n",
    "    \n",
    "    plt.hist(counts2, bins=int(max(counts2)))\n",
    "    plt.xlabel(\"traversals per step\")\n",
    "    plt.ylabel(\"count\")\n",
    "    plt.show()\n",
    "    \n",
    "    \n",
    "    plt.plot(df2.groupby('sn').mean()['c'])\n",
    "    plt.xlabel(\"count of traversals\")\n",
    "    plt.ylabel(\"source node neighbors\")\n",
    "    plt.show()\n",
    "    \n",
    "    \n",
    "    count_mean = df2.groupby('sn').mean()['c']\n",
    "    count_mean_limit_200 = count_mean[count_mean.index < 200]\n",
    "    count_mean_limit_50 = count_mean[count_mean.index < 50]\n",
    "    count_mean_limit_10 = count_mean[count_mean.index < 10]\n",
    "    \n",
    "    \n",
    "    plt.plot(count_mean_limit_200)\n",
    "    plt.title(\"count_mean_limit_200\")\n",
    "    plt.ylabel(\"count of traversals\")\n",
    "    plt.xlabel(\"source node neighbors\")\n",
    "    plt.show()\n",
    "    \n",
    "    \n",
    "    plt.plot(count_mean_limit_50)\n",
    "    plt.title(\"count_mean_limit_50\")\n",
    "    plt.ylabel(\"count of traversals\")\n",
    "    plt.xlabel(\"source node neighbors\")\n",
    "    plt.show()\n",
    "    \n",
    "    \n",
    "    plt.plot(count_mean_limit_10)\n",
    "    plt.title(\"count_mean_limit_10\")\n",
    "    plt.ylabel(\"count of traversals\")\n",
    "    plt.xlabel(\"source node neighbors\")\n",
    "    plt.show()\n",
    "    \n",
    "    tn_count = df2.groupby('tn').mean()['c']\n",
    "    plt.plot(tn_count)\n",
    "    plt.title(\"target count\")\n",
    "    plt.ylabel(\"count of traversals\")\n",
    "    plt.xlabel(\"target node neighbors\")\n",
    "    plt.show()\n",
    "    \n",
    "    plt.plot(tn_count[tn_count.index < 200])\n",
    "    plt.title(\"target count limit 200\")\n",
    "    plt.ylabel(\"count of traversals\")\n",
    "    plt.xlabel(\"target node neighbors\")\n",
    "    plt.show()\n",
    "    \n",
    "    print(\"count mean\")\n",
    "    print(df2['c'].mean())\n",
    "    print(\"count max\")\n",
    "    print(max(df2['c']))\n",
    "    \n",
    "    \n",
    "    count_groups = df2.groupby('c').size()\n",
    "    \n",
    "    groupings_percentages = []\n",
    "    for i in range(1, max(df2['c']), 5):\n",
    "        groupings_percentages.append((i, sum(count_groups[count_groups.index >= i])/sum(count_groups)))\n",
    "    groupings_percentages = np.array(groupings_percentages)\n",
    "    \n",
    "    l1, l2 = zip(*groupings_percentages)\n",
    "    pd_groupings = pd.DataFrame()\n",
    "    pd_groupings['fraction'] = l2\n",
    "    pd_groupings['bound'] = l1\n",
    "    \n",
    "    pd_groupings_sig = pd_groupings[(pd_groupings['fraction'] > 0.05) & (pd_groupings['fraction'] < 0.95)]\n",
    "    \n",
    "    print(tabulate(pd_groupings_sig))\n",
    "    \n",
    "    \n",
    "    plt.plot(pd_groupings_sig['bound'], pd_groupings_sig['fraction'])\n",
    "    plt.xlabel(\"visits in total\")\n",
    "    plt.ylabel(\"fraction on total visits\")\n",
    "    plt.show()\n",
    "    \n",
    "        \n",
    "    \n",
    "    sn_groups = df2.groupby('sn').size()\n",
    "    \n",
    "    groupings_percentages = []\n",
    "    for i in range(1, max(df2['sn']), 5):\n",
    "        groupings_percentages.append((i, sum(sn_groups[sn_groups.index >= i])/sum(sn_groups)))\n",
    "    groupings_percentages = np.array(groupings_percentages)\n",
    "    \n",
    "    l1, l2 = zip(*groupings_percentages)\n",
    "    pd_groupings = pd.DataFrame()\n",
    "    pd_groupings['fraction'] = l2\n",
    "    pd_groupings['bound'] = l1\n",
    "    \n",
    "    pd_groupings_sig = pd_groupings[(pd_groupings['fraction'] > 0.05) & (pd_groupings['fraction'] < 0.95)]\n",
    "    \n",
    "    print(tabulate(pd_groupings_sig))\n",
    "    \n",
    "    \n",
    "    plt.plot(pd_groupings_sig['bound'], pd_groupings_sig['fraction'])\n",
    "    plt.xlabel(\"edges on nodes\")\n",
    "    plt.ylabel(\"fraction of total edges\")\n",
    "    plt.show()\n",
    "    \n",
    "    \n",
    "    plt.plot(df2.groupby('c').size())\n",
    "    plt.xlabel(\"visits per edge\")\n",
    "    plt.ylabel(\"number of occurrences\")\n",
    "    plt.show()\n",
    "    \n",
    "    count_groups = df2.groupby('c').size()\n",
    "    count_groups_500 = count_groups[count_groups < 500]\n",
    "    count_groups[count_groups < 10]"
   ]
  },
  {
   "cell_type": "code",
   "execution_count": 4,
   "metadata": {
    "code_folding": []
   },
   "outputs": [],
   "source": [
    "def stat_analysis2(df):\n",
    "    \n",
    "    return df"
   ]
  },
  {
   "cell_type": "code",
   "execution_count": 5,
   "metadata": {},
   "outputs": [],
   "source": [
    "def read_df(path):\n",
    "    return pd.read_json(path)"
   ]
  },
  {
   "cell_type": "code",
   "execution_count": 58,
   "metadata": {},
   "outputs": [],
   "source": [
    "def read_df_series(path):\n",
    "    import json\n",
    "    with open(path, 'r') as f:\n",
    "        data = json.load(f)\n",
    "        return pd.DataFrame({'data': data})"
   ]
  },
  {
   "cell_type": "code",
   "execution_count": 6,
   "metadata": {},
   "outputs": [],
   "source": [
    "def extract_stats(df):\n",
    "    df2 = pd.DataFrame(df.stats.values.tolist(), index=df.index.values)\n",
    "    return df2, df2.loc[~df2.index.str.contains(\"None\")]"
   ]
  },
  {
   "cell_type": "code",
   "execution_count": 53,
   "metadata": {},
   "outputs": [],
   "source": [
    "df_edge_32_100_2_0 = read_df(\"data_exp/bias_edge_32_100_0.json\")\n",
    "df_edge_32_100_2_02 = read_df(\"data_exp/bias_edge_32_100_0.2.json\")\n",
    "df_edge_32_100_2_04 = read_df(\"data_exp/bias_edge_32_100_0.4.json\")\n",
    "df_edge_32_100_2_06 = read_df(\"data_exp/bias_edge_32_100_0.6.json\")\n",
    "df_edge_32_100_2_08 = read_df(\"data_exp/bias_edge_32_100_0.8.json\")"
   ]
  },
  {
   "cell_type": "code",
   "execution_count": null,
   "metadata": {},
   "outputs": [],
   "source": [
    "df_nodes_32_100_2_0 = read_df(\"data_exp/bias_nodes_32_100_0.json\")\n",
    "df_nodes_32_100_2_02 = read_df(\"data_exp/bias_nodes_32_100_0.2.json\")\n",
    "df_nodes_32_100_2_04 = read_df(\"data_exp/bias_nodes_32_100_0.4.json\")\n",
    "df_nodes_32_100_2_06 = read_df(\"data_exp/bias_nodes_32_100_0.6.json\")\n",
    "df_nodes_32_100_2_08 = read_df(\"data_exp/bias_nodes_32_100_0.8.json\")"
   ]
  },
  {
   "cell_type": "code",
   "execution_count": 59,
   "metadata": {},
   "outputs": [],
   "source": [
    "df_three_32_100_2_0 = read_df_series(\"data_exp/three_count_32_100_0.json\")\n",
    "df_three_32_100_2_02 = read_df_series(\"data_exp/three_count_32_100_0.2.json\")\n",
    "df_three_32_100_2_04 = read_df_series(\"data_exp/three_count_32_100_0.4.json\")\n",
    "df_three_32_100_2_06 = read_df_series(\"data_exp/three_count_32_100_0.6.json\")\n",
    "df_three_32_100_2_08 = read_df_series(\"data_exp/three_count_32_100_0.8.json\")"
   ]
  },
  {
   "cell_type": "code",
   "execution_count": 60,
   "metadata": {},
   "outputs": [],
   "source": [
    "df_four_32_100_2_0 = read_df(\"data_exp/four_count_32_100_0.json\")\n",
    "df_four_32_100_2_02 = read_df(\"data_exp/four_count_32_100_0.2.json\")\n",
    "df_four_32_100_2_04 = read_df(\"data_exp/four_count_32_100_0.4.json\")\n",
    "df_four_32_100_2_06 = read_df(\"data_exp/four_count_32_100_0.6.json\")\n",
    "df_four_32_100_2_08 = read_df(\"data_exp/four_count_32_100_0.8.json\")"
   ]
  },
  {
   "cell_type": "code",
   "execution_count": 63,
   "metadata": {},
   "outputs": [],
   "source": [
    "df_edge_32_100_4096_0 = read_df(\"data_exp/bias_edge_32_100_4096_0.json\")\n",
    "df_edge_32_100_4096_02 = read_df(\"data_exp/bias_edge_32_100_4096_0.2.json\")\n",
    "df_edge_32_100_4096_04 = read_df(\"data_exp/bias_edge_32_100_4096_0.4.json\")\n",
    "df_edge_32_100_4096_06 = read_df(\"data_exp/bias_edge_32_100_4096_0.6.json\")\n",
    "df_edge_32_100_4096_08 = read_df(\"data_exp/bias_edge_32_100_4096_0.8.json\")"
   ]
  },
  {
   "cell_type": "code",
   "execution_count": null,
   "metadata": {},
   "outputs": [],
   "source": [
    "df_edge_32_100_16_0 = read_df(\"data_exp/bias_edge_32_100_16_0.json\")\n",
    "df_edge_32_100_16_02 = read_df(\"data_exp/bias_edge_32_100_16_0.2.json\")\n",
    "df_edge_32_100_16_04 = read_df(\"data_exp/bias_edge_32_100_16_0.4.json\")\n",
    "df_edge_32_100_16_06 = read_df(\"data_exp/bias_edge_32_100_16_0.6.json\")\n",
    "df_edge_32_100_16_08 = read_df(\"data_exp/bias_edge_32_100_16_0.8.json\")"
   ]
  },
  {
   "cell_type": "code",
   "execution_count": 8,
   "metadata": {},
   "outputs": [],
   "source": [
    "dfe = extract_stats(df_32_100_2_06)"
   ]
  },
  {
   "cell_type": "code",
   "execution_count": 52,
   "metadata": {},
   "outputs": [
    {
     "name": "stdout",
     "output_type": "stream",
     "text": [
      "How many edges had more than X visits in the same step\n",
      "--  -----------\n",
      " 0  1\n",
      " 1  0.0731472\n",
      " 2  0.00928241\n",
      " 3  0.0050652\n",
      " 4  0.00349967\n",
      " 5  0.00265484\n",
      " 6  0.0020889\n",
      " 7  0.00170507\n",
      " 8  0.00140936\n",
      " 9  0.00115928\n",
      "10  0.000974425\n",
      "11  0.000870813\n",
      "12  0.000787452\n",
      "13  0.000707859\n",
      "14  0.000628737\n",
      "15  0.000540432\n",
      "16  0.000472613\n",
      "17  0.000410563\n",
      "18  0.000346983\n",
      "19  0.000324612\n",
      "20  0.000305774\n",
      "--  -----------\n",
      "avg per step\n",
      "1.0330485638637397\n",
      "median per step\n",
      "1.0\n"
     ]
    },
    {
     "data": {
      "image/png": "[encoded data removed]",
      "text/plain": [
       "<Figure size 432x288 with 1 Axes>"
      ]
     },
     "metadata": {
      "needs_background": "light"
     },
     "output_type": "display_data"
    },
    {
     "data": {
      "image/png": "[encoded data removed]",
      "text/plain": [
       "<Figure size 432x288 with 1 Axes>"
      ]
     },
     "metadata": {
      "needs_background": "light"
     },
     "output_type": "display_data"
    },
    {
     "data": {
      "image/png": "[encoded data removed]",
      "text/plain": [
       "<Figure size 432x288 with 1 Axes>"
      ]
     },
     "metadata": {
      "needs_background": "light"
     },
     "output_type": "display_data"
    },
    {
     "data": {
      "image/png": "[encoded data removed]",
      "text/plain": [
       "<Figure size 432x288 with 1 Axes>"
      ]
     },
     "metadata": {
      "needs_background": "light"
     },
     "output_type": "display_data"
    },
    {
     "data": {
      "image/png": "[encoded data removed]",
      "text/plain": [
       "<Figure size 432x288 with 1 Axes>"
      ]
     },
     "metadata": {
      "needs_background": "light"
     },
     "output_type": "display_data"
    },
    {
     "data": {
      "image/png": "[encoded data removed]",
      "text/plain": [
       "<Figure size 432x288 with 1 Axes>"
      ]
     },
     "metadata": {
      "needs_background": "light"
     },
     "output_type": "display_data"
    },
    {
     "data": {
      "image/png": "[encoded data removed]",
      "text/plain": [
       "<Figure size 432x288 with 1 Axes>"
      ]
     },
     "metadata": {
      "needs_background": "light"
     },
     "output_type": "display_data"
    },
    {
     "data": {
      "image/png": "[encoded data removed]",
      "text/plain": [
       "<Figure size 432x288 with 1 Axes>"
      ]
     },
     "metadata": {
      "needs_background": "light"
     },
     "output_type": "display_data"
    },
    {
     "data": {
      "image/png": "[encoded data removed]",
      "text/plain": [
       "<Figure size 432x288 with 1 Axes>"
      ]
     },
     "metadata": {
      "needs_background": "light"
     },
     "output_type": "display_data"
    },
    {
     "name": "stdout",
     "output_type": "stream",
     "text": [
      "count mean\n",
      "70.8867356944606\n",
      "count max\n",
      "563\n",
      "--  ---------  ---\n",
      " 6  0.937842    31\n",
      " 7  0.85292     36\n",
      " 8  0.776762    41\n",
      " 9  0.699474    46\n",
      "10  0.62612     51\n",
      "11  0.557917    56\n",
      "12  0.492579    61\n",
      "13  0.429402    66\n",
      "14  0.370019    71\n",
      "15  0.31724     76\n",
      "16  0.27051     81\n",
      "17  0.230783    86\n",
      "18  0.19879     91\n",
      "19  0.173312    96\n",
      "20  0.154958   101\n",
      "21  0.140731   106\n",
      "22  0.12964    111\n",
      "23  0.120865   116\n",
      "24  0.114062   121\n",
      "25  0.107442   126\n",
      "26  0.101015   131\n",
      "27  0.0942457  136\n",
      "28  0.0876587  141\n",
      "29  0.0804456  146\n",
      "30  0.0727617  151\n",
      "31  0.0646457  156\n",
      "32  0.0570781  161\n",
      "--  ---------  ---\n"
     ]
    },
    {
     "data": {
      "image/png": "[encoded data removed]",
      "text/plain": [
       "<Figure size 432x288 with 1 Axes>"
      ]
     },
     "metadata": {
      "needs_background": "light"
     },
     "output_type": "display_data"
    },
    {
     "name": "stdout",
     "output_type": "stream",
     "text": [
      "--  ---------  ---\n",
      " 3  0.930595    16\n",
      " 4  0.892303    21\n",
      " 5  0.854659    26\n",
      " 6  0.819553    31\n",
      " 7  0.782662    36\n",
      " 8  0.74273     41\n",
      " 9  0.713834    46\n",
      "10  0.678483    51\n",
      "11  0.648512    56\n",
      "12  0.620796    61\n",
      "13  0.58888     66\n",
      "14  0.557585    71\n",
      "15  0.532716    76\n",
      "16  0.506501    81\n",
      "17  0.48084     86\n",
      "18  0.461611    91\n",
      "19  0.437673    96\n",
      "20  0.412987   101\n",
      "21  0.394533   106\n",
      "22  0.372246   111\n",
      "23  0.353216   116\n",
      "24  0.337433   121\n",
      "25  0.307922   126\n",
      "26  0.290055   131\n",
      "27  0.272976   136\n",
      "28  0.258356   141\n",
      "29  0.244074   146\n",
      "30  0.230102   151\n",
      "31  0.213039   156\n",
      "32  0.19453    161\n",
      "33  0.179971   166\n",
      "34  0.16406    171\n",
      "35  0.148654   176\n",
      "36  0.130831   181\n",
      "37  0.113491   186\n",
      "38  0.0914868  191\n",
      "39  0.0764458  196\n",
      "40  0.0621306  201\n",
      "--  ---------  ---\n"
     ]
    },
    {
     "data": {
      "image/png": "[encoded data removed]",
      "text/plain": [
       "<Figure size 432x288 with 1 Axes>"
      ]
     },
     "metadata": {
      "needs_background": "light"
     },
     "output_type": "display_data"
    },
    {
     "data": {
      "image/png": "[encoded data removed]",
      "text/plain": [
       "<Figure size 432x288 with 1 Axes>"
      ]
     },
     "metadata": {
      "needs_background": "light"
     },
     "output_type": "display_data"
    }
   ],
   "source": [
    "stats_analysis(dfe)"
   ]
  },
  {
   "cell_type": "code",
   "execution_count": 15,
   "metadata": {},
   "outputs": [],
   "source": [
    "df = read_df(\"data/stats_120_80_1.json\")\n",
    "dfe_120_80_1 = extract_stats(df)"
   ]
  },
  {
   "cell_type": "code",
   "execution_count": 30,
   "metadata": {},
   "outputs": [
    {
     "name": "stdout",
     "output_type": "stream",
     "text": [
      "--  ----------\n",
      " 0  1\n",
      " 1  0.0431653\n",
      " 2  0.0320198\n",
      " 3  0.027237\n",
      " 4  0.0235433\n",
      " 5  0.0204606\n",
      " 6  0.0180117\n",
      " 7  0.0159588\n",
      " 8  0.0142373\n",
      " 9  0.0128139\n",
      "10  0.0115523\n",
      "11  0.0104392\n",
      "12  0.00950513\n",
      "13  0.00870748\n",
      "14  0.00798958\n",
      "15  0.007368\n",
      "16  0.00685986\n",
      "17  0.00637435\n",
      "18  0.00591789\n",
      "19  0.00554094\n",
      "20  0.00520015\n",
      "--  ----------\n",
      "avg per step\n",
      "1.033759247606491\n",
      "median per step\n",
      "1.0\n"
     ]
    },
    {
     "data": {
      "image/png": "[encoded data removed]",
      "text/plain": [
       "<Figure size 432x288 with 1 Axes>"
      ]
     },
     "metadata": {
      "needs_background": "light"
     },
     "output_type": "display_data"
    },
    {
     "data": {
      "image/png": "[encoded data removed]",
      "text/plain": [
       "<Figure size 432x288 with 1 Axes>"
      ]
     },
     "metadata": {
      "needs_background": "light"
     },
     "output_type": "display_data"
    },
    {
     "data": {
      "image/png": "[encoded data removed]",
      "text/plain": [
       "<Figure size 432x288 with 1 Axes>"
      ]
     },
     "metadata": {
      "needs_background": "light"
     },
     "output_type": "display_data"
    },
    {
     "data": {
      "image/png": "[encoded data removed]",
      "text/plain": [
       "<Figure size 432x288 with 1 Axes>"
      ]
     },
     "metadata": {
      "needs_background": "light"
     },
     "output_type": "display_data"
    },
    {
     "data": {
      "image/png": "[encoded data removed]",
      "text/plain": [
       "<Figure size 432x288 with 1 Axes>"
      ]
     },
     "metadata": {
      "needs_background": "light"
     },
     "output_type": "display_data"
    },
    {
     "data": {
      "image/png": "[encoded data removed]",
      "text/plain": [
       "<Figure size 432x288 with 1 Axes>"
      ]
     },
     "metadata": {
      "needs_background": "light"
     },
     "output_type": "display_data"
    },
    {
     "data": {
      "image/png": "[encoded data removed]",
      "text/plain": [
       "<Figure size 432x288 with 1 Axes>"
      ]
     },
     "metadata": {
      "needs_background": "light"
     },
     "output_type": "display_data"
    },
    {
     "data": {
      "image/png": "[encoded data removed]",
      "text/plain": [
       "<Figure size 432x288 with 1 Axes>"
      ]
     },
     "metadata": {
      "needs_background": "light"
     },
     "output_type": "display_data"
    },
    {
     "name": "stdout",
     "output_type": "stream",
     "text": [
      "count mean\n",
      "212.12318635842377\n",
      "count max\n",
      "1409\n",
      "--  ---------  ---\n",
      "20  0.917034   101\n",
      "21  0.879617   106\n",
      "22  0.847945   111\n",
      "23  0.823586   116\n",
      "24  0.781781   121\n",
      "25  0.762896   126\n",
      "26  0.742841   131\n",
      "27  0.721667   136\n",
      "28  0.700521   141\n",
      "29  0.679298   146\n",
      "30  0.65762    151\n",
      "31  0.632867   156\n",
      "32  0.604176   161\n",
      "33  0.572083   166\n",
      "34  0.541663   171\n",
      "35  0.513592   176\n",
      "36  0.490928   181\n",
      "37  0.473832   186\n",
      "38  0.46078    191\n",
      "39  0.449052   196\n",
      "40  0.436836   201\n",
      "41  0.421485   206\n",
      "42  0.403525   211\n",
      "43  0.382528   216\n",
      "44  0.359521   221\n",
      "45  0.336209   226\n",
      "46  0.312769   231\n",
      "47  0.28939    236\n",
      "48  0.266051   241\n",
      "49  0.243558   246\n",
      "50  0.222224   251\n",
      "51  0.202585   256\n",
      "52  0.184946   261\n",
      "53  0.169534   266\n",
      "54  0.157512   271\n",
      "55  0.148238   276\n",
      "56  0.141485   281\n",
      "57  0.136338   286\n",
      "58  0.132937   291\n",
      "59  0.130322   296\n",
      "60  0.128388   301\n",
      "61  0.126527   306\n",
      "62  0.124965   311\n",
      "63  0.123774   316\n",
      "64  0.122588   321\n",
      "65  0.12163    326\n",
      "66  0.120677   331\n",
      "67  0.11984    336\n",
      "68  0.119137   341\n",
      "69  0.118538   346\n",
      "70  0.117923   351\n",
      "71  0.117369   356\n",
      "72  0.116871   361\n",
      "73  0.116483   366\n",
      "74  0.116145   371\n",
      "75  0.11584    376\n",
      "76  0.115558   381\n",
      "77  0.115275   386\n",
      "78  0.114965   391\n",
      "79  0.114666   396\n",
      "80  0.114145   401\n",
      "81  0.113497   406\n",
      "82  0.112433   411\n",
      "83  0.111015   416\n",
      "84  0.109165   421\n",
      "85  0.106927   426\n",
      "86  0.104267   431\n",
      "87  0.100988   436\n",
      "88  0.0971763  441\n",
      "89  0.0929216  446\n",
      "90  0.0879024  451\n",
      "91  0.0826727  456\n",
      "92  0.0769222  461\n",
      "93  0.0704349  466\n",
      "94  0.06392    471\n",
      "95  0.0573939  476\n",
      "96  0.0508401  481\n",
      "--  ---------  ---\n"
     ]
    },
    {
     "data": {
      "image/png": "[encoded data removed]",
      "text/plain": [
       "<Figure size 432x288 with 1 Axes>"
      ]
     },
     "metadata": {
      "needs_background": "light"
     },
     "output_type": "display_data"
    },
    {
     "data": {
      "image/png": "[encoded data removed]",
      "text/plain": [
       "<Figure size 432x288 with 1 Axes>"
      ]
     },
     "metadata": {
      "needs_background": "light"
     },
     "output_type": "display_data"
    }
   ],
   "source": [
    "stats_analysis(dfe_120_80_1[0], dfe_120_80_1[1])"
   ]
  },
  {
   "cell_type": "code",
   "execution_count": 16,
   "metadata": {},
   "outputs": [
    {
     "data": {
      "text/plain": [
       "(0, 1)        1.817204\n",
       "(0, 10)       1.693662\n",
       "(0, 100)      1.654362\n",
       "(0, 101)      1.825279\n",
       "(0, 102)      1.903915\n",
       "                ...   \n",
       "(999, 916)    1.039735\n",
       "(999, 925)    1.025316\n",
       "(999, 947)    1.044586\n",
       "(999, 966)    1.053571\n",
       "(999, 968)    1.069892\n",
       "Length: 176468, dtype: float64"
      ]
     },
     "execution_count": 16,
     "metadata": {},
     "output_type": "execute_result"
    }
   ],
   "source": [
    "stat_analysis2(df_starting_nodes).fillna(0).sum(axis=1) / stat_analysis2(df_starting_nodes).count(axis=1)"
   ]
  },
  {
   "cell_type": "code",
   "execution_count": 18,
   "metadata": {},
   "outputs": [],
   "source": [
    "dfc = df_starting_nodes.count(axis=1)"
   ]
  },
  {
   "cell_type": "code",
   "execution_count": 22,
   "metadata": {},
   "outputs": [
    {
     "data": {
      "text/plain": [
       "172.17763560532222"
      ]
     },
     "execution_count": 22,
     "metadata": {},
     "output_type": "execute_result"
    }
   ],
   "source": [
    "dfc.mean()"
   ]
  },
  {
   "cell_type": "code",
   "execution_count": 20,
   "metadata": {},
   "outputs": [],
   "source": [
    "dfs = df_starting_nodes.fillna(0).sum(axis=1)"
   ]
  },
  {
   "cell_type": "code",
   "execution_count": 23,
   "metadata": {},
   "outputs": [
    {
     "data": {
      "text/plain": [
       "210.58292154951607"
      ]
     },
     "execution_count": 23,
     "metadata": {},
     "output_type": "execute_result"
    }
   ],
   "source": [
    "dfs.mean()"
   ]
  },
  {
   "cell_type": "code",
   "execution_count": 52,
   "metadata": {},
   "outputs": [
    {
     "data": {
      "text/plain": [
       "(0, 1)        279\n",
       "(0, 10)       284\n",
       "(0, 100)      298\n",
       "(0, 101)      269\n",
       "(0, 102)      281\n",
       "             ... \n",
       "(999, 916)    151\n",
       "(999, 925)    158\n",
       "(999, 947)    157\n",
       "(999, 966)    168\n",
       "(999, 968)    186\n",
       "Length: 176468, dtype: int64"
      ]
     },
     "execution_count": 52,
     "metadata": {},
     "output_type": "execute_result"
    }
   ],
   "source": [
    "dfc"
   ]
  },
  {
   "cell_type": "code",
   "execution_count": 53,
   "metadata": {},
   "outputs": [
    {
     "data": {
      "text/plain": [
       "(0, 1)        279\n",
       "(0, 10)       284\n",
       "(0, 100)      298\n",
       "(0, 101)      269\n",
       "(0, 102)      281\n",
       "             ... \n",
       "(999, 916)    151\n",
       "(999, 925)    158\n",
       "(999, 947)    157\n",
       "(999, 966)    168\n",
       "(999, 968)    186\n",
       "Length: 176468, dtype: int64"
      ]
     },
     "execution_count": 53,
     "metadata": {},
     "output_type": "execute_result"
    }
   ],
   "source": [
    "dfbc"
   ]
  },
  {
   "cell_type": "code",
   "execution_count": 6,
   "metadata": {},
   "outputs": [],
   "source": [
    "df = pd.read_json(\"data/stats_120_80_1.json\")"
   ]
  },
  {
   "cell_type": "code",
   "execution_count": 8,
   "metadata": {},
   "outputs": [],
   "source": [
    "df2 = pd.DataFrame(df.stats.values.tolist(), index=df.index.values)\n",
    "df3 = df2.loc[~df2.index.str.contains(\"None\")]\n",
    "    \n"
   ]
  },
  {
   "cell_type": "code",
   "execution_count": 24,
   "metadata": {},
   "outputs": [],
   "source": [
    "df_batches = pd.DataFrame(df3.batch_id.values.tolist(), index=df3.index.values)\n"
   ]
  },
  {
   "cell_type": "code",
   "execution_count": 48,
   "metadata": {},
   "outputs": [],
   "source": [
    "dfbc = df_batches.count(axis=1)"
   ]
  },
  {
   "cell_type": "code",
   "execution_count": 50,
   "metadata": {},
   "outputs": [
    {
     "data": {
      "text/plain": [
       "172.17763560532222"
      ]
     },
     "execution_count": 50,
     "metadata": {},
     "output_type": "execute_result"
    }
   ],
   "source": [
    "dfbc.mean()"
   ]
  },
  {
   "cell_type": "code",
   "execution_count": 11,
   "metadata": {},
   "outputs": [],
   "source": [
    "df_starting_nodes = pd.DataFrame(df3.starting_nodes.values.tolist(), index=df3.index.values)\n",
    "# df_starting_nodes = df_starting_nodes.fillna(0)"
   ]
  },
  {
   "cell_type": "code",
   "execution_count": null,
   "metadata": {},
   "outputs": [],
   "source": [
    "df = pd.read_json(\"data/stats.json\")"
   ]
  },
  {
   "cell_type": "code",
   "execution_count": null,
   "metadata": {},
   "outputs": [],
   "source": [
    "df1 = pd.read_json(\"data/stats1.json\")"
   ]
  },
  {
   "cell_type": "code",
   "execution_count": null,
   "metadata": {},
   "outputs": [],
   "source": [
    "df128 = pd.read_json(\"data/stats_20_10_128.json\")\n",
    "df32 = pd.read_json(\"data/stats_20_10_32.json\")\n",
    "df1 = pd.read_json(\"data/stats_20_10_1.json\")"
   ]
  },
  {
   "cell_type": "code",
   "execution_count": null,
   "metadata": {},
   "outputs": [],
   "source": [
    "df_80_1024 = pd.read_json(\"data/stats_120_80_1024.json\")\n",
    "df_80_512 = pd.read_json(\"data/stats_120_80_512.json\")\n",
    "df_80_128 = pd.read_json(\"data/stats_120_80_128.json\")\n",
    "df_80_64 = pd.read_json(\"data/stats_120_80_64.json\")\n",
    "df_80_16 = pd.read_json(\"data/stats_120_80_16.json\")\n",
    "df_80_1 = pd.read_json(\"data/stats_120_80_1.json\")"
   ]
  },
  {
   "cell_type": "code",
   "execution_count": null,
   "metadata": {},
   "outputs": [],
   "source": [
    "df_80_16000 = pd.read_json(\"data/stats_120_80_16000.json\")"
   ]
  },
  {
   "cell_type": "code",
   "execution_count": null,
   "metadata": {},
   "outputs": [],
   "source": [
    "df1 = pd.read_json(\"data/stats_20_20_1.json\")\n",
    "df16 = pd.read_json(\"data/stats_20_20_16.json\")\n",
    "df64 = pd.read_json(\"data/stats_20_20_64.json\")"
   ]
  },
  {
   "cell_type": "code",
   "execution_count": null,
   "metadata": {},
   "outputs": [],
   "source": [
    "df_80_131072 = pd.read_json(\"data/stats_120_80_131072.json\")\n",
    "df_80_65536 = pd.read_json(\"data/stats_120_80_65536.json\")\n",
    "df_80_2048 = pd.read_json(\"data/stats_120_80_2048.json\")\n",
    "df_80_512 = pd.read_json(\"data/stats_120_80_512.json\")\n",
    "df_80_128 = pd.read_json(\"data/stats_120_80_128.json\")\n",
    "df_80_16 = pd.read_json(\"data/stats_120_80_16.json\")"
   ]
  },
  {
   "cell_type": "code",
   "execution_count": 29,
   "metadata": {},
   "outputs": [],
   "source": [
    "df_120_80_64 = pd.read_json(\"data/stats_120_80_64.json\")"
   ]
  },
  {
   "cell_type": "code",
   "execution_count": 35,
   "metadata": {},
   "outputs": [
    {
     "data": {
      "text/plain": [
       "(0, 1)         {'count': 334, 'source_neighbors': 347, 'targe...\n",
       "(0, 10)        {'count': 415, 'source_neighbors': 347, 'targe...\n",
       "(0, 100)       {'count': 419, 'source_neighbors': 347, 'targe...\n",
       "(0, 101)       {'count': 411, 'source_neighbors': 347, 'targe...\n",
       "(0, 102)       {'count': 601, 'source_neighbors': 347, 'targe...\n",
       "                                     ...                        \n",
       "(999, 925)     {'count': 186, 'source_neighbors': 77, 'target...\n",
       "(999, 947)     {'count': 154, 'source_neighbors': 77, 'target...\n",
       "(999, 966)     {'count': 183, 'source_neighbors': 77, 'target...\n",
       "(999, 968)     {'count': 253, 'source_neighbors': 77, 'target...\n",
       "(999, None)    {'count': 120, 'source_neighbors': 77, 'target...\n",
       "Name: stats, Length: 180507, dtype: object"
      ]
     },
     "execution_count": 35,
     "metadata": {},
     "output_type": "execute_result"
    }
   ],
   "source": [
    "df_120_80_64.stats"
   ]
  },
  {
   "cell_type": "code",
   "execution_count": 36,
   "metadata": {},
   "outputs": [],
   "source": [
    "df_120_80_64v2 = pd.DataFrame(df_120_80_64.stats.values.tolist(), index=df_120_80_64.index.values)"
   ]
  },
  {
   "cell_type": "code",
   "execution_count": 41,
   "metadata": {},
   "outputs": [],
   "source": [
    "df_120_80_64v3 = df_120_80_64v2.loc[~df2.index.str.contains(\"None\")]"
   ]
  },
  {
   "cell_type": "code",
   "execution_count": 43,
   "metadata": {},
   "outputs": [],
   "source": [
    "dfa = df_120_80_64v3['count']/ df_120_80_64v3['target_neighbors']"
   ]
  },
  {
   "cell_type": "code",
   "execution_count": 45,
   "metadata": {},
   "outputs": [
    {
     "data": {
      "text/plain": [
       "7.364761683968151"
      ]
     },
     "execution_count": 45,
     "metadata": {},
     "output_type": "execute_result"
    }
   ],
   "source": [
    "dfa.mean()"
   ]
  },
  {
   "cell_type": "code",
   "execution_count": 27,
   "metadata": {},
   "outputs": [
    {
     "data": {
      "text/plain": [
       "(0, 10)        {'count': 1, 'source_neighbors': 347, 'target_...\n",
       "(0, 102)       {'count': 1, 'source_neighbors': 347, 'target_...\n",
       "(0, 103)       {'count': 1, 'source_neighbors': 347, 'target_...\n",
       "(0, 104)       {'count': 1, 'source_neighbors': 347, 'target_...\n",
       "(0, 107)       {'count': 1, 'source_neighbors': 347, 'target_...\n",
       "                                     ...                        \n",
       "(999, 1888)    {'count': 1, 'source_neighbors': 77, 'target_n...\n",
       "(999, 925)     {'count': 2, 'source_neighbors': 77, 'target_n...\n",
       "(999, 966)     {'count': 3, 'source_neighbors': 77, 'target_n...\n",
       "(999, 968)     {'count': 3, 'source_neighbors': 77, 'target_n...\n",
       "(999, None)    {'count': 20, 'source_neighbors': 77, 'target_...\n",
       "Name: stats, Length: 146916, dtype: object"
      ]
     },
     "execution_count": 27,
     "metadata": {},
     "output_type": "execute_result"
    }
   ],
   "source": [
    "df_20_10_1['stats']"
   ]
  },
  {
   "cell_type": "code",
   "execution_count": null,
   "metadata": {},
   "outputs": [],
   "source": [
    "stats_analysis(df1)"
   ]
  },
  {
   "cell_type": "code",
   "execution_count": null,
   "metadata": {},
   "outputs": [],
   "source": [
    "stats_analysis(df_80_131072)"
   ]
  },
  {
   "cell_type": "code",
   "execution_count": null,
   "metadata": {},
   "outputs": [],
   "source": [
    "stats_analysis(df_80_65536)"
   ]
  },
  {
   "cell_type": "code",
   "execution_count": null,
   "metadata": {},
   "outputs": [],
   "source": [
    "stats_analysis(df_80_2048)"
   ]
  },
  {
   "cell_type": "code",
   "execution_count": null,
   "metadata": {},
   "outputs": [],
   "source": [
    "stats_analysis(df_80_512)"
   ]
  },
  {
   "cell_type": "code",
   "execution_count": null,
   "metadata": {},
   "outputs": [],
   "source": [
    "stats_analysis(df_80_128)"
   ]
  },
  {
   "cell_type": "code",
   "execution_count": null,
   "metadata": {},
   "outputs": [],
   "source": [
    "stats_analysis(df_80_16)"
   ]
  },
  {
   "cell_type": "code",
   "execution_count": null,
   "metadata": {},
   "outputs": [],
   "source": [
    "with open(\"data/stats.json\") as datafile:\n",
    "    data = json.load(datafile)\n"
   ]
  },
  {
   "cell_type": "code",
   "execution_count": null,
   "metadata": {},
   "outputs": [],
   "source": [
    "df = pd.read_json(\"data/stats.json\")"
   ]
  },
  {
   "cell_type": "code",
   "execution_count": null,
   "metadata": {},
   "outputs": [],
   "source": [
    "df = df128"
   ]
  },
  {
   "cell_type": "code",
   "execution_count": null,
   "metadata": {},
   "outputs": [],
   "source": [
    "df.index.values"
   ]
  },
  {
   "cell_type": "code",
   "execution_count": null,
   "metadata": {
    "pycharm": {
     "is_executing": false
    }
   },
   "outputs": [],
   "source": [
    "df2 = pd.DataFrame(df.stats.values.tolist(), index=df.index.values)"
   ]
  },
  {
   "cell_type": "code",
   "execution_count": null,
   "metadata": {},
   "outputs": [],
   "source": [
    "df2.loc['(1096, 107)']"
   ]
  },
  {
   "cell_type": "code",
   "execution_count": null,
   "metadata": {},
   "outputs": [],
   "source": [
    "df3 = df2.loc[~df2.index.str.contains(\"None\")]"
   ]
  },
  {
   "cell_type": "code",
   "execution_count": null,
   "metadata": {},
   "outputs": [],
   "source": [
    "df4 = df2.loc[df2.index.str.contains(\"None\")]"
   ]
  },
  {
   "cell_type": "code",
   "execution_count": null,
   "metadata": {},
   "outputs": [],
   "source": [
    "df3"
   ]
  },
  {
   "cell_type": "code",
   "execution_count": null,
   "metadata": {},
   "outputs": [],
   "source": [
    "df3"
   ]
  },
  {
   "cell_type": "code",
   "execution_count": null,
   "metadata": {},
   "outputs": [],
   "source": [
    "df3.time_access.values.tolist()"
   ]
  },
  {
   "cell_type": "code",
   "execution_count": 17,
   "metadata": {
    "pycharm": {
     "is_executing": false,
     "name": "#%%\n"
    }
   },
   "outputs": [],
   "source": [
    "df_time_access = pd.DataFrame(dfe_120_80_1[1].time_access.values.tolist(), index=dfe_120_80_1[1].index.values)"
   ]
  },
  {
   "cell_type": "code",
   "execution_count": 18,
   "metadata": {
    "pycharm": {
     "is_executing": false,
     "name": "#%%\n"
    }
   },
   "outputs": [
    {
     "ename": "NameError",
     "evalue": "name 'df3' is not defined",
     "output_type": "error",
     "traceback": [
      "\u001b[0;31m---------------------------------------------------------------------------\u001b[0m",
      "\u001b[0;31mNameError\u001b[0m                                 Traceback (most recent call last)",
      "\u001b[0;32m<ipython-input-18-b969f6e6bd17>\u001b[0m in \u001b[0;36m<module>\u001b[0;34m\u001b[0m\n\u001b[0;32m----> 1\u001b[0;31m \u001b[0mdf3\u001b[0m\u001b[0;34m.\u001b[0m\u001b[0mtime_access\u001b[0m\u001b[0;34m.\u001b[0m\u001b[0mvalues\u001b[0m\u001b[0;34m.\u001b[0m\u001b[0mtolist\u001b[0m\u001b[0;34m(\u001b[0m\u001b[0;34m)\u001b[0m\u001b[0;34m\u001b[0m\u001b[0;34m\u001b[0m\u001b[0m\n\u001b[0m",
      "\u001b[0;31mNameError\u001b[0m: name 'df3' is not defined"
     ]
    }
   ],
   "source": [
    "df3.time_access.values.tolist()"
   ]
  },
  {
   "cell_type": "code",
   "execution_count": 19,
   "metadata": {
    "pycharm": {
     "name": "#%%\n"
    }
   },
   "outputs": [],
   "source": [
    "df_time_access = df_time_access.fillna(0)"
   ]
  },
  {
   "cell_type": "code",
   "execution_count": 20,
   "metadata": {},
   "outputs": [
    {
     "data": {
      "text/plain": [
       "17    (3980, 4017)\n",
       "51    (3994, 3982)\n",
       "2          (0, 11)\n",
       "4       (414, 642)\n",
       "19    (1918, 2381)\n",
       "          ...     \n",
       "5     (3980, 4001)\n",
       "42    (3988, 3980)\n",
       "65    (3982, 4003)\n",
       "55    (3488, 3557)\n",
       "52    (3980, 4008)\n",
       "Length: 78, dtype: object"
      ]
     },
     "execution_count": 20,
     "metadata": {},
     "output_type": "execute_result"
    }
   ],
   "source": [
    "df_time_access.idxmax()"
   ]
  },
  {
   "cell_type": "code",
   "execution_count": 21,
   "metadata": {
    "pycharm": {
     "is_executing": false
    }
   },
   "outputs": [],
   "source": [
    "counts = df_time_access.values.flatten()\n"
   ]
  },
  {
   "cell_type": "code",
   "execution_count": 23,
   "metadata": {},
   "outputs": [
    {
     "data": {
      "text/html": [
       "<div>\n",
       "<style scoped>\n",
       "    .dataframe tbody tr th:only-of-type {\n",
       "        vertical-align: middle;\n",
       "    }\n",
       "\n",
       "    .dataframe tbody tr th {\n",
       "        vertical-align: top;\n",
       "    }\n",
       "\n",
       "    .dataframe thead th {\n",
       "        text-align: right;\n",
       "    }\n",
       "</style>\n",
       "<table border=\"1\" class=\"dataframe\">\n",
       "  <thead>\n",
       "    <tr style=\"text-align: right;\">\n",
       "      <th></th>\n",
       "      <th>17</th>\n",
       "      <th>51</th>\n",
       "      <th>2</th>\n",
       "      <th>4</th>\n",
       "      <th>19</th>\n",
       "      <th>21</th>\n",
       "      <th>37</th>\n",
       "      <th>57</th>\n",
       "      <th>11</th>\n",
       "      <th>46</th>\n",
       "      <th>...</th>\n",
       "      <th>70</th>\n",
       "      <th>73</th>\n",
       "      <th>75</th>\n",
       "      <th>32</th>\n",
       "      <th>62</th>\n",
       "      <th>5</th>\n",
       "      <th>42</th>\n",
       "      <th>65</th>\n",
       "      <th>55</th>\n",
       "      <th>52</th>\n",
       "    </tr>\n",
       "  </thead>\n",
       "  <tbody>\n",
       "    <tr>\n",
       "      <td>(0, 1)</td>\n",
       "      <td>1.0</td>\n",
       "      <td>1.0</td>\n",
       "      <td>7.0</td>\n",
       "      <td>1.0</td>\n",
       "      <td>1.0</td>\n",
       "      <td>1.0</td>\n",
       "      <td>1.0</td>\n",
       "      <td>1.0</td>\n",
       "      <td>1.0</td>\n",
       "      <td>1.0</td>\n",
       "      <td>...</td>\n",
       "      <td>1.0</td>\n",
       "      <td>1.0</td>\n",
       "      <td>1.0</td>\n",
       "      <td>1.0</td>\n",
       "      <td>1.0</td>\n",
       "      <td>1.0</td>\n",
       "      <td>1.0</td>\n",
       "      <td>1.0</td>\n",
       "      <td>1.0</td>\n",
       "      <td>1.0</td>\n",
       "    </tr>\n",
       "    <tr>\n",
       "      <td>(0, 10)</td>\n",
       "      <td>1.0</td>\n",
       "      <td>1.0</td>\n",
       "      <td>8.0</td>\n",
       "      <td>1.0</td>\n",
       "      <td>1.0</td>\n",
       "      <td>1.0</td>\n",
       "      <td>1.0</td>\n",
       "      <td>1.0</td>\n",
       "      <td>1.0</td>\n",
       "      <td>1.0</td>\n",
       "      <td>...</td>\n",
       "      <td>1.0</td>\n",
       "      <td>1.0</td>\n",
       "      <td>1.0</td>\n",
       "      <td>1.0</td>\n",
       "      <td>1.0</td>\n",
       "      <td>1.0</td>\n",
       "      <td>1.0</td>\n",
       "      <td>1.0</td>\n",
       "      <td>1.0</td>\n",
       "      <td>1.0</td>\n",
       "    </tr>\n",
       "    <tr>\n",
       "      <td>(0, 100)</td>\n",
       "      <td>1.0</td>\n",
       "      <td>1.0</td>\n",
       "      <td>12.0</td>\n",
       "      <td>1.0</td>\n",
       "      <td>1.0</td>\n",
       "      <td>1.0</td>\n",
       "      <td>1.0</td>\n",
       "      <td>1.0</td>\n",
       "      <td>1.0</td>\n",
       "      <td>1.0</td>\n",
       "      <td>...</td>\n",
       "      <td>1.0</td>\n",
       "      <td>1.0</td>\n",
       "      <td>1.0</td>\n",
       "      <td>1.0</td>\n",
       "      <td>1.0</td>\n",
       "      <td>1.0</td>\n",
       "      <td>1.0</td>\n",
       "      <td>1.0</td>\n",
       "      <td>1.0</td>\n",
       "      <td>1.0</td>\n",
       "    </tr>\n",
       "    <tr>\n",
       "      <td>(0, 101)</td>\n",
       "      <td>1.0</td>\n",
       "      <td>1.0</td>\n",
       "      <td>10.0</td>\n",
       "      <td>1.0</td>\n",
       "      <td>1.0</td>\n",
       "      <td>1.0</td>\n",
       "      <td>1.0</td>\n",
       "      <td>1.0</td>\n",
       "      <td>1.0</td>\n",
       "      <td>1.0</td>\n",
       "      <td>...</td>\n",
       "      <td>1.0</td>\n",
       "      <td>1.0</td>\n",
       "      <td>1.0</td>\n",
       "      <td>1.0</td>\n",
       "      <td>1.0</td>\n",
       "      <td>1.0</td>\n",
       "      <td>1.0</td>\n",
       "      <td>1.0</td>\n",
       "      <td>1.0</td>\n",
       "      <td>1.0</td>\n",
       "    </tr>\n",
       "    <tr>\n",
       "      <td>(0, 102)</td>\n",
       "      <td>1.0</td>\n",
       "      <td>1.0</td>\n",
       "      <td>18.0</td>\n",
       "      <td>1.0</td>\n",
       "      <td>1.0</td>\n",
       "      <td>1.0</td>\n",
       "      <td>1.0</td>\n",
       "      <td>1.0</td>\n",
       "      <td>1.0</td>\n",
       "      <td>1.0</td>\n",
       "      <td>...</td>\n",
       "      <td>1.0</td>\n",
       "      <td>1.0</td>\n",
       "      <td>1.0</td>\n",
       "      <td>1.0</td>\n",
       "      <td>1.0</td>\n",
       "      <td>1.0</td>\n",
       "      <td>1.0</td>\n",
       "      <td>1.0</td>\n",
       "      <td>1.0</td>\n",
       "      <td>1.0</td>\n",
       "    </tr>\n",
       "    <tr>\n",
       "      <td>...</td>\n",
       "      <td>...</td>\n",
       "      <td>...</td>\n",
       "      <td>...</td>\n",
       "      <td>...</td>\n",
       "      <td>...</td>\n",
       "      <td>...</td>\n",
       "      <td>...</td>\n",
       "      <td>...</td>\n",
       "      <td>...</td>\n",
       "      <td>...</td>\n",
       "      <td>...</td>\n",
       "      <td>...</td>\n",
       "      <td>...</td>\n",
       "      <td>...</td>\n",
       "      <td>...</td>\n",
       "      <td>...</td>\n",
       "      <td>...</td>\n",
       "      <td>...</td>\n",
       "      <td>...</td>\n",
       "      <td>...</td>\n",
       "      <td>...</td>\n",
       "    </tr>\n",
       "    <tr>\n",
       "      <td>(999, 916)</td>\n",
       "      <td>1.0</td>\n",
       "      <td>1.0</td>\n",
       "      <td>3.0</td>\n",
       "      <td>0.0</td>\n",
       "      <td>1.0</td>\n",
       "      <td>1.0</td>\n",
       "      <td>1.0</td>\n",
       "      <td>1.0</td>\n",
       "      <td>1.0</td>\n",
       "      <td>1.0</td>\n",
       "      <td>...</td>\n",
       "      <td>1.0</td>\n",
       "      <td>1.0</td>\n",
       "      <td>1.0</td>\n",
       "      <td>0.0</td>\n",
       "      <td>1.0</td>\n",
       "      <td>1.0</td>\n",
       "      <td>0.0</td>\n",
       "      <td>0.0</td>\n",
       "      <td>1.0</td>\n",
       "      <td>1.0</td>\n",
       "    </tr>\n",
       "    <tr>\n",
       "      <td>(999, 925)</td>\n",
       "      <td>1.0</td>\n",
       "      <td>1.0</td>\n",
       "      <td>2.0</td>\n",
       "      <td>1.0</td>\n",
       "      <td>1.0</td>\n",
       "      <td>1.0</td>\n",
       "      <td>1.0</td>\n",
       "      <td>1.0</td>\n",
       "      <td>1.0</td>\n",
       "      <td>1.0</td>\n",
       "      <td>...</td>\n",
       "      <td>1.0</td>\n",
       "      <td>1.0</td>\n",
       "      <td>1.0</td>\n",
       "      <td>1.0</td>\n",
       "      <td>0.0</td>\n",
       "      <td>1.0</td>\n",
       "      <td>1.0</td>\n",
       "      <td>1.0</td>\n",
       "      <td>0.0</td>\n",
       "      <td>1.0</td>\n",
       "    </tr>\n",
       "    <tr>\n",
       "      <td>(999, 947)</td>\n",
       "      <td>1.0</td>\n",
       "      <td>1.0</td>\n",
       "      <td>0.0</td>\n",
       "      <td>1.0</td>\n",
       "      <td>1.0</td>\n",
       "      <td>1.0</td>\n",
       "      <td>1.0</td>\n",
       "      <td>1.0</td>\n",
       "      <td>1.0</td>\n",
       "      <td>1.0</td>\n",
       "      <td>...</td>\n",
       "      <td>1.0</td>\n",
       "      <td>1.0</td>\n",
       "      <td>0.0</td>\n",
       "      <td>1.0</td>\n",
       "      <td>1.0</td>\n",
       "      <td>1.0</td>\n",
       "      <td>1.0</td>\n",
       "      <td>1.0</td>\n",
       "      <td>1.0</td>\n",
       "      <td>1.0</td>\n",
       "    </tr>\n",
       "    <tr>\n",
       "      <td>(999, 966)</td>\n",
       "      <td>1.0</td>\n",
       "      <td>1.0</td>\n",
       "      <td>0.0</td>\n",
       "      <td>1.0</td>\n",
       "      <td>1.0</td>\n",
       "      <td>1.0</td>\n",
       "      <td>1.0</td>\n",
       "      <td>1.0</td>\n",
       "      <td>1.0</td>\n",
       "      <td>1.0</td>\n",
       "      <td>...</td>\n",
       "      <td>1.0</td>\n",
       "      <td>1.0</td>\n",
       "      <td>1.0</td>\n",
       "      <td>1.0</td>\n",
       "      <td>1.0</td>\n",
       "      <td>1.0</td>\n",
       "      <td>0.0</td>\n",
       "      <td>0.0</td>\n",
       "      <td>1.0</td>\n",
       "      <td>1.0</td>\n",
       "    </tr>\n",
       "    <tr>\n",
       "      <td>(999, 968)</td>\n",
       "      <td>1.0</td>\n",
       "      <td>1.0</td>\n",
       "      <td>7.0</td>\n",
       "      <td>1.0</td>\n",
       "      <td>1.0</td>\n",
       "      <td>1.0</td>\n",
       "      <td>1.0</td>\n",
       "      <td>1.0</td>\n",
       "      <td>1.0</td>\n",
       "      <td>1.0</td>\n",
       "      <td>...</td>\n",
       "      <td>1.0</td>\n",
       "      <td>1.0</td>\n",
       "      <td>1.0</td>\n",
       "      <td>1.0</td>\n",
       "      <td>1.0</td>\n",
       "      <td>1.0</td>\n",
       "      <td>1.0</td>\n",
       "      <td>1.0</td>\n",
       "      <td>1.0</td>\n",
       "      <td>1.0</td>\n",
       "    </tr>\n",
       "  </tbody>\n",
       "</table>\n",
       "<p>176468 rows × 78 columns</p>\n",
       "</div>"
      ],
      "text/plain": [
       "             17   51     2    4   19   21   37   57   11   46  ...   70   73  \\\n",
       "(0, 1)      1.0  1.0   7.0  1.0  1.0  1.0  1.0  1.0  1.0  1.0  ...  1.0  1.0   \n",
       "(0, 10)     1.0  1.0   8.0  1.0  1.0  1.0  1.0  1.0  1.0  1.0  ...  1.0  1.0   \n",
       "(0, 100)    1.0  1.0  12.0  1.0  1.0  1.0  1.0  1.0  1.0  1.0  ...  1.0  1.0   \n",
       "(0, 101)    1.0  1.0  10.0  1.0  1.0  1.0  1.0  1.0  1.0  1.0  ...  1.0  1.0   \n",
       "(0, 102)    1.0  1.0  18.0  1.0  1.0  1.0  1.0  1.0  1.0  1.0  ...  1.0  1.0   \n",
       "...         ...  ...   ...  ...  ...  ...  ...  ...  ...  ...  ...  ...  ...   \n",
       "(999, 916)  1.0  1.0   3.0  0.0  1.0  1.0  1.0  1.0  1.0  1.0  ...  1.0  1.0   \n",
       "(999, 925)  1.0  1.0   2.0  1.0  1.0  1.0  1.0  1.0  1.0  1.0  ...  1.0  1.0   \n",
       "(999, 947)  1.0  1.0   0.0  1.0  1.0  1.0  1.0  1.0  1.0  1.0  ...  1.0  1.0   \n",
       "(999, 966)  1.0  1.0   0.0  1.0  1.0  1.0  1.0  1.0  1.0  1.0  ...  1.0  1.0   \n",
       "(999, 968)  1.0  1.0   7.0  1.0  1.0  1.0  1.0  1.0  1.0  1.0  ...  1.0  1.0   \n",
       "\n",
       "             75   32   62    5   42   65   55   52  \n",
       "(0, 1)      1.0  1.0  1.0  1.0  1.0  1.0  1.0  1.0  \n",
       "(0, 10)     1.0  1.0  1.0  1.0  1.0  1.0  1.0  1.0  \n",
       "(0, 100)    1.0  1.0  1.0  1.0  1.0  1.0  1.0  1.0  \n",
       "(0, 101)    1.0  1.0  1.0  1.0  1.0  1.0  1.0  1.0  \n",
       "(0, 102)    1.0  1.0  1.0  1.0  1.0  1.0  1.0  1.0  \n",
       "...         ...  ...  ...  ...  ...  ...  ...  ...  \n",
       "(999, 916)  1.0  0.0  1.0  1.0  0.0  0.0  1.0  1.0  \n",
       "(999, 925)  1.0  1.0  0.0  1.0  1.0  1.0  0.0  1.0  \n",
       "(999, 947)  0.0  1.0  1.0  1.0  1.0  1.0  1.0  1.0  \n",
       "(999, 966)  1.0  1.0  1.0  1.0  0.0  0.0  1.0  1.0  \n",
       "(999, 968)  1.0  1.0  1.0  1.0  1.0  1.0  1.0  1.0  \n",
       "\n",
       "[176468 rows x 78 columns]"
      ]
     },
     "execution_count": 23,
     "metadata": {},
     "output_type": "execute_result"
    }
   ],
   "source": [
    "df_time_access"
   ]
  },
  {
   "cell_type": "code",
   "execution_count": 24,
   "metadata": {},
   "outputs": [
    {
     "data": {
      "text/plain": [
       "array([1., 1., 7., ..., 1., 1., 1.])"
      ]
     },
     "execution_count": 24,
     "metadata": {},
     "output_type": "execute_result"
    }
   ],
   "source": [
    "counts"
   ]
  },
  {
   "cell_type": "code",
   "execution_count": 25,
   "metadata": {},
   "outputs": [],
   "source": [
    "counts2 = counts[(counts>0) & (counts<120)]"
   ]
  },
  {
   "cell_type": "code",
   "execution_count": 27,
   "metadata": {},
   "outputs": [
    {
     "data": {
      "text/plain": [
       "array([ True,  True, False, ...,  True,  True,  True])"
      ]
     },
     "execution_count": 27,
     "metadata": {},
     "output_type": "execute_result"
    }
   ],
   "source": [
    "counts2==1"
   ]
  },
  {
   "cell_type": "code",
   "execution_count": 28,
   "metadata": {},
   "outputs": [
    {
     "data": {
      "text/plain": [
       "0.989142835972024"
      ]
     },
     "execution_count": 28,
     "metadata": {},
     "output_type": "execute_result"
    }
   ],
   "source": [
    "len(counts2[counts2==1])/len(counts2)"
   ]
  },
  {
   "cell_type": "code",
   "execution_count": null,
   "metadata": {},
   "outputs": [],
   "source": [
    "ratios = []\n",
    "for i in range(1, 11):\n",
    "    ratios.append(len(counts2[counts2==i])/len(counts2))"
   ]
  },
  {
   "cell_type": "code",
   "execution_count": null,
   "metadata": {},
   "outputs": [],
   "source": [
    "step_groupings = []\n",
    "for i in range(1, 21):\n",
    "    step_groupings.append((i, sum(counts2[counts2>i])/sum(counts2)))"
   ]
  },
  {
   "cell_type": "code",
   "execution_count": null,
   "metadata": {},
   "outputs": [],
   "source": [
    "step_groupings = np.array(step_groupings)\n",
    "l1, l2 = zip(*step_groupings)"
   ]
  },
  {
   "cell_type": "code",
   "execution_count": null,
   "metadata": {},
   "outputs": [],
   "source": [
    "step_groupings"
   ]
  },
  {
   "cell_type": "code",
   "execution_count": null,
   "metadata": {},
   "outputs": [],
   "source": [
    "\n",
    "\n",
    "step_groupings_pd = pd.DataFrame()\n",
    "step_groupings_pd['bound'] = l1\n",
    "step_groupings_pd['fraction'] = l2\n",
    "\n",
    "plt.plot(step_groupings_pd['bound'], step_groupings_pd['fraction'])\n",
    "plt.xlabel(\"traversals per step\")\n",
    "plt.ylabel(\"fraction of total traversals\")"
   ]
  },
  {
   "cell_type": "code",
   "execution_count": null,
   "metadata": {},
   "outputs": [],
   "source": [
    "plt.bar(range(1,11), np.array(ratios))\n",
    "plt.xlabel(\"traversals per step\")\n",
    "plt.ylabel(\"fraction of total traversals\")"
   ]
  },
  {
   "cell_type": "code",
   "execution_count": null,
   "metadata": {},
   "outputs": [],
   "source": [
    "plt.hist(counts2, bins=int(max(counts2)))\n",
    "plt.xlabel(\"traversals per step\")\n",
    "plt.ylabel(\"count\")"
   ]
  },
  {
   "cell_type": "code",
   "execution_count": null,
   "metadata": {},
   "outputs": [],
   "source": []
  },
  {
   "cell_type": "code",
   "execution_count": null,
   "metadata": {},
   "outputs": [],
   "source": [
    "plt.plot(df2.groupby('source_neighbors').mean()['count'])\n",
    "plt.xlabel(\"count of traversals\")\n",
    "plt.ylabel(\"source node neighbors\")"
   ]
  },
  {
   "cell_type": "code",
   "execution_count": null,
   "metadata": {},
   "outputs": [],
   "source": [
    "count_mean = df2.groupby('source_neighbors').mean()['count']"
   ]
  },
  {
   "cell_type": "code",
   "execution_count": null,
   "metadata": {},
   "outputs": [],
   "source": [
    "count_mean"
   ]
  },
  {
   "cell_type": "code",
   "execution_count": null,
   "metadata": {},
   "outputs": [],
   "source": [
    "count_mean_limit_100 = count_mean[count_mean.index < 100]\n",
    "count_mean_limit_50 = count_mean[count_mean.index < 50]\n",
    "count_mean_limit_10 = count_mean[count_mean.index < 10]"
   ]
  },
  {
   "cell_type": "code",
   "execution_count": null,
   "metadata": {},
   "outputs": [],
   "source": [
    "plt.plot(count_mean_limit_100)\n",
    "plt.ylabel(\"count of traversals\")\n",
    "plt.xlabel(\"source node neighbors\")"
   ]
  },
  {
   "cell_type": "code",
   "execution_count": null,
   "metadata": {
    "scrolled": true
   },
   "outputs": [],
   "source": [
    "plt.plot(count_mean_limit_50)\n",
    "plt.ylabel(\"count of traversals\")\n",
    "plt.xlabel(\"source node neighbors\")"
   ]
  },
  {
   "cell_type": "code",
   "execution_count": null,
   "metadata": {},
   "outputs": [],
   "source": [
    "plt.plot(count_mean_limit_10)\n",
    "plt.ylabel(\"count of traversals\")\n",
    "plt.xlabel(\"source node neighbors\")"
   ]
  },
  {
   "cell_type": "code",
   "execution_count": null,
   "metadata": {},
   "outputs": [],
   "source": [
    "plt.plot(df2.groupby('target_neighbors').mean()['count'])\n",
    "plt.ylabel(\"count of traversals\")\n",
    "plt.xlabel(\"target node neighbors\")"
   ]
  },
  {
   "cell_type": "code",
   "execution_count": null,
   "metadata": {},
   "outputs": [],
   "source": [
    "df2['count'].mean()"
   ]
  },
  {
   "cell_type": "code",
   "execution_count": null,
   "metadata": {},
   "outputs": [],
   "source": [
    "df2['count'].median()"
   ]
  },
  {
   "cell_type": "code",
   "execution_count": null,
   "metadata": {},
   "outputs": [],
   "source": [
    "max(df2['count'])"
   ]
  },
  {
   "cell_type": "code",
   "execution_count": 35,
   "metadata": {},
   "outputs": [],
   "source": [
    "sn_group = dfe[1].groupby('sn').size()"
   ]
  },
  {
   "cell_type": "code",
   "execution_count": 43,
   "metadata": {},
   "outputs": [
    {
     "data": {
      "text/plain": [
       "sn\n",
       "1         75\n",
       "2        196\n",
       "3        279\n",
       "4        396\n",
       "5        465\n",
       "        ... \n",
       "347      347\n",
       "547      547\n",
       "755      755\n",
       "792      792\n",
       "1045    1045\n",
       "Length: 227, dtype: int64"
      ]
     },
     "execution_count": 43,
     "metadata": {},
     "output_type": "execute_result"
    }
   ],
   "source": [
    "sn_group"
   ]
  },
  {
   "cell_type": "code",
   "execution_count": 50,
   "metadata": {},
   "outputs": [
    {
     "data": {
      "text/plain": [
       "122577"
      ]
     },
     "execution_count": 50,
     "metadata": {},
     "output_type": "execute_result"
    }
   ],
   "source": [
    "sum(sn_group[sn_group.index >= 50])"
   ]
  },
  {
   "cell_type": "code",
   "execution_count": 29,
   "metadata": {},
   "outputs": [
    {
     "data": {
      "text/html": [
       "<div>\n",
       "<style scoped>\n",
       "    .dataframe tbody tr th:only-of-type {\n",
       "        vertical-align: middle;\n",
       "    }\n",
       "\n",
       "    .dataframe tbody tr th {\n",
       "        vertical-align: top;\n",
       "    }\n",
       "\n",
       "    .dataframe thead th {\n",
       "        text-align: right;\n",
       "    }\n",
       "</style>\n",
       "<table border=\"1\" class=\"dataframe\">\n",
       "  <thead>\n",
       "    <tr style=\"text-align: right;\">\n",
       "      <th></th>\n",
       "      <th>c</th>\n",
       "      <th>sn</th>\n",
       "      <th>tn</th>\n",
       "      <th>ta</th>\n",
       "    </tr>\n",
       "  </thead>\n",
       "  <tbody>\n",
       "    <tr>\n",
       "      <td>(0, 1)</td>\n",
       "      <td>170</td>\n",
       "      <td>347</td>\n",
       "      <td>17</td>\n",
       "      <td>{'6': 1.0, '47': 1.0, '93': 1.0, '58': 1.0, '8...</td>\n",
       "    </tr>\n",
       "    <tr>\n",
       "      <td>(0, 10)</td>\n",
       "      <td>130</td>\n",
       "      <td>347</td>\n",
       "      <td>10</td>\n",
       "      <td>{'31': 1.0, '43': 1.0, '75': 1.0, '77': 1.0, '...</td>\n",
       "    </tr>\n",
       "    <tr>\n",
       "      <td>(0, 100)</td>\n",
       "      <td>160</td>\n",
       "      <td>347</td>\n",
       "      <td>9</td>\n",
       "      <td>{'42': 1.0, '4': 1.0, '59': 1.0, '68': 1.0, '2...</td>\n",
       "    </tr>\n",
       "    <tr>\n",
       "      <td>(0, 101)</td>\n",
       "      <td>165</td>\n",
       "      <td>347</td>\n",
       "      <td>19</td>\n",
       "      <td>{'64': 1.0, '26': 1.0, '47': 1.0, '40': 1.0, '...</td>\n",
       "    </tr>\n",
       "    <tr>\n",
       "      <td>(0, 102)</td>\n",
       "      <td>160</td>\n",
       "      <td>347</td>\n",
       "      <td>6</td>\n",
       "      <td>{'47': 1.0, '88': 1.0, '16': 1.0, '57': 1.0, '...</td>\n",
       "    </tr>\n",
       "    <tr>\n",
       "      <td>...</td>\n",
       "      <td>...</td>\n",
       "      <td>...</td>\n",
       "      <td>...</td>\n",
       "      <td>...</td>\n",
       "    </tr>\n",
       "    <tr>\n",
       "      <td>(999, 916)</td>\n",
       "      <td>38</td>\n",
       "      <td>77</td>\n",
       "      <td>147</td>\n",
       "      <td>{'81': 1.0, '44': 1.0, '30': 1.0, '38': 1.0, '...</td>\n",
       "    </tr>\n",
       "    <tr>\n",
       "      <td>(999, 925)</td>\n",
       "      <td>68</td>\n",
       "      <td>77</td>\n",
       "      <td>167</td>\n",
       "      <td>{'98': 1.0, '49': 1.0, '57': 1.0, '91': 1.0, '...</td>\n",
       "    </tr>\n",
       "    <tr>\n",
       "      <td>(999, 947)</td>\n",
       "      <td>54</td>\n",
       "      <td>77</td>\n",
       "      <td>115</td>\n",
       "      <td>{'39': 1.0, '98': 1.0, '84': 1.0, '79': 1.0, '...</td>\n",
       "    </tr>\n",
       "    <tr>\n",
       "      <td>(999, 966)</td>\n",
       "      <td>47</td>\n",
       "      <td>77</td>\n",
       "      <td>115</td>\n",
       "      <td>{'33': 1.0, '52': 1.0, '70': 1.0, '36': 1.0, '...</td>\n",
       "    </tr>\n",
       "    <tr>\n",
       "      <td>(999, 968)</td>\n",
       "      <td>47</td>\n",
       "      <td>77</td>\n",
       "      <td>40</td>\n",
       "      <td>{'31': 1.0, '71': 1.0, '77': 1.0, '19': 1.0, '...</td>\n",
       "    </tr>\n",
       "  </tbody>\n",
       "</table>\n",
       "<p>176468 rows × 4 columns</p>\n",
       "</div>"
      ],
      "text/plain": [
       "              c   sn   tn                                                 ta\n",
       "(0, 1)      170  347   17  {'6': 1.0, '47': 1.0, '93': 1.0, '58': 1.0, '8...\n",
       "(0, 10)     130  347   10  {'31': 1.0, '43': 1.0, '75': 1.0, '77': 1.0, '...\n",
       "(0, 100)    160  347    9  {'42': 1.0, '4': 1.0, '59': 1.0, '68': 1.0, '2...\n",
       "(0, 101)    165  347   19  {'64': 1.0, '26': 1.0, '47': 1.0, '40': 1.0, '...\n",
       "(0, 102)    160  347    6  {'47': 1.0, '88': 1.0, '16': 1.0, '57': 1.0, '...\n",
       "...         ...  ...  ...                                                ...\n",
       "(999, 916)   38   77  147  {'81': 1.0, '44': 1.0, '30': 1.0, '38': 1.0, '...\n",
       "(999, 925)   68   77  167  {'98': 1.0, '49': 1.0, '57': 1.0, '91': 1.0, '...\n",
       "(999, 947)   54   77  115  {'39': 1.0, '98': 1.0, '84': 1.0, '79': 1.0, '...\n",
       "(999, 966)   47   77  115  {'33': 1.0, '52': 1.0, '70': 1.0, '36': 1.0, '...\n",
       "(999, 968)   47   77   40  {'31': 1.0, '71': 1.0, '77': 1.0, '19': 1.0, '...\n",
       "\n",
       "[176468 rows x 4 columns]"
      ]
     },
     "execution_count": 29,
     "metadata": {},
     "output_type": "execute_result"
    }
   ],
   "source": [
    "dfe[1].groupby('sn')"
   ]
  },
  {
   "cell_type": "code",
   "execution_count": 23,
   "metadata": {},
   "outputs": [],
   "source": [
    "count_groups = dfe[1].groupby('c').size()\n"
   ]
  },
  {
   "cell_type": "code",
   "execution_count": 41,
   "metadata": {},
   "outputs": [
    {
     "data": {
      "text/plain": [
       "c\n",
       "7      1\n",
       "8      2\n",
       "9      2\n",
       "10     2\n",
       "11     5\n",
       "      ..\n",
       "534    1\n",
       "535    1\n",
       "546    2\n",
       "552    1\n",
       "563    1\n",
       "Length: 451, dtype: int64"
      ]
     },
     "execution_count": 41,
     "metadata": {},
     "output_type": "execute_result"
    }
   ],
   "source": [
    "count_groups"
   ]
  },
  {
   "cell_type": "code",
   "execution_count": 25,
   "metadata": {},
   "outputs": [
    {
     "data": {
      "text/plain": [
       "176468"
      ]
     },
     "execution_count": 25,
     "metadata": {},
     "output_type": "execute_result"
    }
   ],
   "source": [
    "sum(count_groups) # how many edges there is"
   ]
  },
  {
   "cell_type": "code",
   "execution_count": null,
   "metadata": {},
   "outputs": [],
   "source": [
    "sum(count_groups[count_groups.index >= i]) # how many edges where number of visis were greater than i"
   ]
  },
  {
   "cell_type": "code",
   "execution_count": null,
   "metadata": {},
   "outputs": [],
   "source": [
    "groupings_percentages = []\n",
    "for i in range(1, max(df2['count']), 5):\n",
    "    groupings_percentages.append((i, sum(count_groups[count_groups.index >= i])/sum(count_groups)))"
   ]
  },
  {
   "cell_type": "code",
   "execution_count": null,
   "metadata": {},
   "outputs": [],
   "source": [
    "groupings_percentages = np.array(groupings_percentages)\n",
    "l1, l2 = zip(*groupings_percentages)\n"
   ]
  },
  {
   "cell_type": "code",
   "execution_count": null,
   "metadata": {},
   "outputs": [],
   "source": [
    "pd_groupings = pd.DataFrame()\n",
    "pd_groupings['fraction'] = l2\n",
    "pd_groupings['bound'] = l1"
   ]
  },
  {
   "cell_type": "code",
   "execution_count": null,
   "metadata": {},
   "outputs": [],
   "source": [
    "max(count_groups)"
   ]
  },
  {
   "cell_type": "code",
   "execution_count": null,
   "metadata": {},
   "outputs": [],
   "source": [
    "pd_groupings"
   ]
  },
  {
   "cell_type": "code",
   "execution_count": null,
   "metadata": {},
   "outputs": [],
   "source": [
    "pd_groupings_sig = pd_groupings[(pd_groupings['fraction'] > 0.05) & (pd_groupings['fraction'] < 0.95)]"
   ]
  },
  {
   "cell_type": "code",
   "execution_count": null,
   "metadata": {},
   "outputs": [],
   "source": [
    "pd_groupings_sig"
   ]
  },
  {
   "cell_type": "code",
   "execution_count": null,
   "metadata": {},
   "outputs": [],
   "source": [
    "plt.plot(pd_groupings_sig['bound'], pd_groupings_sig['fraction'])\n",
    "plt.xlabel(\"visits in total\")\n",
    "plt.ylabel(\"fraction on total visits\")"
   ]
  },
  {
   "cell_type": "code",
   "execution_count": null,
   "metadata": {},
   "outputs": [],
   "source": [
    "plt.plot(df2.groupby('count').size())"
   ]
  },
  {
   "cell_type": "code",
   "execution_count": null,
   "metadata": {},
   "outputs": [],
   "source": [
    "count_groups = df2.groupby('count').size()\n",
    "count_groups_500 = count_groups[count_groups < 500]"
   ]
  },
  {
   "cell_type": "code",
   "execution_count": null,
   "metadata": {},
   "outputs": [],
   "source": [
    "count_groups[count_groups < 10]"
   ]
  },
  {
   "cell_type": "code",
   "execution_count": null,
   "metadata": {},
   "outputs": [],
   "source": [
    "bins = range(0, max(df2['count']), 10)\n",
    "pd.cut(count_groups, bins)"
   ]
  },
  {
   "cell_type": "code",
   "execution_count": null,
   "metadata": {},
   "outputs": [],
   "source": [
    "plt.plot(count_groups_500)"
   ]
  },
  {
   "cell_type": "code",
   "execution_count": null,
   "metadata": {},
   "outputs": [],
   "source": [
    "cut_df = pd.cut(count_groups, bins).to_frame()"
   ]
  },
  {
   "cell_type": "code",
   "execution_count": null,
   "metadata": {},
   "outputs": [],
   "source": [
    "cut_df.groupby(0).size().head(20)"
   ]
  },
  {
   "cell_type": "code",
   "execution_count": null,
   "metadata": {},
   "outputs": [],
   "source": [
    "df_three_32_100_2_0 = read_df(\"data_exp/three_count_32_100_0.json\")\n",
    "df_three_32_100_2_02 = read_df(\"data_exp/three_count_32_100_0.2.json\")\n",
    "df_three_32_100_2_04 = read_df(\"data_exp/three_count_32_100_0.4.json\")\n",
    "df_three_32_100_2_06 = read_df(\"data_exp/three_count_32_100_0.6.json\")\n",
    "df_three_32_100_2_08 = read_df(\"data_exp/three_count_32_100_0.8.json\")"
   ]
  },
  {
   "cell_type": "code",
   "execution_count": 61,
   "metadata": {},
   "outputs": [
    {
     "data": {
      "text/html": [
       "<div>\n",
       "<style scoped>\n",
       "    .dataframe tbody tr th:only-of-type {\n",
       "        vertical-align: middle;\n",
       "    }\n",
       "\n",
       "    .dataframe tbody tr th {\n",
       "        vertical-align: top;\n",
       "    }\n",
       "\n",
       "    .dataframe thead th {\n",
       "        text-align: right;\n",
       "    }\n",
       "</style>\n",
       "<table border=\"1\" class=\"dataframe\">\n",
       "  <thead>\n",
       "    <tr style=\"text-align: right;\">\n",
       "      <th></th>\n",
       "      <th>data</th>\n",
       "    </tr>\n",
       "  </thead>\n",
       "  <tbody>\n",
       "    <tr>\n",
       "      <td>(0, 1, 0)</td>\n",
       "      <td>16</td>\n",
       "    </tr>\n",
       "    <tr>\n",
       "      <td>(0, 1, 0, 1)</td>\n",
       "      <td>1</td>\n",
       "    </tr>\n",
       "    <tr>\n",
       "      <td>(0, 1, 0, 103)</td>\n",
       "      <td>1</td>\n",
       "    </tr>\n",
       "    <tr>\n",
       "      <td>(0, 1, 0, 122)</td>\n",
       "      <td>1</td>\n",
       "    </tr>\n",
       "    <tr>\n",
       "      <td>(0, 1, 0, 139)</td>\n",
       "      <td>1</td>\n",
       "    </tr>\n",
       "    <tr>\n",
       "      <td>...</td>\n",
       "      <td>...</td>\n",
       "    </tr>\n",
       "    <tr>\n",
       "      <td>(999, 968, 999)</td>\n",
       "      <td>4</td>\n",
       "    </tr>\n",
       "    <tr>\n",
       "      <td>(999, 968, 999, 1291)</td>\n",
       "      <td>1</td>\n",
       "    </tr>\n",
       "    <tr>\n",
       "      <td>(999, 968, 999, 1603)</td>\n",
       "      <td>1</td>\n",
       "    </tr>\n",
       "    <tr>\n",
       "      <td>(999, 968, 999, 1652)</td>\n",
       "      <td>1</td>\n",
       "    </tr>\n",
       "    <tr>\n",
       "      <td>(999, 968, 999, 1750)</td>\n",
       "      <td>1</td>\n",
       "    </tr>\n",
       "  </tbody>\n",
       "</table>\n",
       "<p>18017304 rows × 1 columns</p>\n",
       "</div>"
      ],
      "text/plain": [
       "                       data\n",
       "(0, 1, 0)                16\n",
       "(0, 1, 0, 1)              1\n",
       "(0, 1, 0, 103)            1\n",
       "(0, 1, 0, 122)            1\n",
       "(0, 1, 0, 139)            1\n",
       "...                     ...\n",
       "(999, 968, 999)           4\n",
       "(999, 968, 999, 1291)     1\n",
       "(999, 968, 999, 1603)     1\n",
       "(999, 968, 999, 1652)     1\n",
       "(999, 968, 999, 1750)     1\n",
       "\n",
       "[18017304 rows x 1 columns]"
      ]
     },
     "execution_count": 61,
     "metadata": {},
     "output_type": "execute_result"
    }
   ],
   "source": [
    "df_three_32_100_2_0"
   ]
  },
  {
   "cell_type": "code",
   "execution_count": 62,
   "metadata": {},
   "outputs": [
    {
     "data": {
      "text/html": [
       "<div>\n",
       "<style scoped>\n",
       "    .dataframe tbody tr th:only-of-type {\n",
       "        vertical-align: middle;\n",
       "    }\n",
       "\n",
       "    .dataframe tbody tr th {\n",
       "        vertical-align: top;\n",
       "    }\n",
       "\n",
       "    .dataframe thead th {\n",
       "        text-align: right;\n",
       "    }\n",
       "</style>\n",
       "<table border=\"1\" class=\"dataframe\">\n",
       "  <thead>\n",
       "    <tr style=\"text-align: right;\">\n",
       "      <th></th>\n",
       "      <th>data</th>\n",
       "    </tr>\n",
       "  </thead>\n",
       "  <tbody>\n",
       "    <tr>\n",
       "      <td>(0, 1, 0)</td>\n",
       "      <td>2</td>\n",
       "    </tr>\n",
       "    <tr>\n",
       "      <td>(0, 1, 0, 1)</td>\n",
       "      <td>2</td>\n",
       "    </tr>\n",
       "    <tr>\n",
       "      <td>(0, 1, 119)</td>\n",
       "      <td>5</td>\n",
       "    </tr>\n",
       "    <tr>\n",
       "      <td>(0, 1, 119, 150)</td>\n",
       "      <td>1</td>\n",
       "    </tr>\n",
       "    <tr>\n",
       "      <td>(0, 1, 119, 188)</td>\n",
       "      <td>3</td>\n",
       "    </tr>\n",
       "    <tr>\n",
       "      <td>...</td>\n",
       "      <td>...</td>\n",
       "    </tr>\n",
       "    <tr>\n",
       "      <td>(999, 968, 606, 1070)</td>\n",
       "      <td>1</td>\n",
       "    </tr>\n",
       "    <tr>\n",
       "      <td>(999, 968, 946, 1532)</td>\n",
       "      <td>1</td>\n",
       "    </tr>\n",
       "    <tr>\n",
       "      <td>(999, 968, 999)</td>\n",
       "      <td>6</td>\n",
       "    </tr>\n",
       "    <tr>\n",
       "      <td>(999, 968, 999, 1584)</td>\n",
       "      <td>1</td>\n",
       "    </tr>\n",
       "    <tr>\n",
       "      <td>(999, 968, 999, 968)</td>\n",
       "      <td>5</td>\n",
       "    </tr>\n",
       "  </tbody>\n",
       "</table>\n",
       "<p>10170532 rows × 1 columns</p>\n",
       "</div>"
      ],
      "text/plain": [
       "                       data\n",
       "(0, 1, 0)                 2\n",
       "(0, 1, 0, 1)              2\n",
       "(0, 1, 119)               5\n",
       "(0, 1, 119, 150)          1\n",
       "(0, 1, 119, 188)          3\n",
       "...                     ...\n",
       "(999, 968, 606, 1070)     1\n",
       "(999, 968, 946, 1532)     1\n",
       "(999, 968, 999)           6\n",
       "(999, 968, 999, 1584)     1\n",
       "(999, 968, 999, 968)      5\n",
       "\n",
       "[10170532 rows x 1 columns]"
      ]
     },
     "execution_count": 62,
     "metadata": {},
     "output_type": "execute_result"
    }
   ],
   "source": [
    "df_three_32_100_2_08"
   ]
  },
  {
   "cell_type": "code",
   "execution_count": null,
   "metadata": {},
   "outputs": [],
   "source": []
  }
 ],
 "metadata": {
  "hide_input": false,
  "kernelspec": {
   "display_name": "Python 3",
   "language": "python",
   "name": "python3"
  },
  "language_info": {
   "codemirror_mode": {
    "name": "ipython",
    "version": 3
   },
   "file_extension": ".py",
   "mimetype": "text/x-python",
   "name": "python",
   "nbconvert_exporter": "python",
   "pygments_lexer": "ipython3",
   "version": "3.7.1"
  },
  "pycharm": {
   "stem_cell": {
    "cell_type": "raw",
    "metadata": {
     "collapsed": false
    },
    "source": []
   }
  }
 },
 "nbformat": 4,
 "nbformat_minor": 1
}
