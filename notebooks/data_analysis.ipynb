{
 "cells": [
  {
   "cell_type": "code",
   "execution_count": 1,
   "metadata": {
    "pycharm": {
     "is_executing": false,
     "name": "#%%\n"
    }
   },
   "outputs": [],
   "source": [
    "\n",
    "import pandas as pd\n",
    "import json\n",
    "from pandas.io.json import json_normalize  \n",
    "import numpy as np\n",
    "from tabulate import tabulate"
   ]
  },
  {
   "cell_type": "code",
   "execution_count": 2,
   "metadata": {
    "pycharm": {
     "is_executing": false
    }
   },
   "outputs": [],
   "source": [
    "import matplotlib.pyplot as plt\n",
    "%matplotlib inline"
   ]
  },
  {
   "cell_type": "code",
   "execution_count": 3,
   "metadata": {},
   "outputs": [],
   "source": [
    "def stats_analysis(df2, df3):\n",
    "#     df2 = pd.DataFrame(df.stats.values.tolist(), index=df.index.values)\n",
    "#     df3 = df2.loc[~df2.index.str.contains(\"None\")]\n",
    "    # extract time_access dict to data fram\n",
    "    df_time_access = pd.DataFrame(df3.time_access.values.tolist(), index=df3.index.values)\n",
    "    df_time_access = df_time_access.fillna(0)\n",
    "    \n",
    "    # counts accesses to edges\n",
    "    counts = df_time_access.values.flatten()\n",
    "#     counts2 = counts[(counts>0) & (counts<120)]\n",
    "    counts2 = counts[(counts>0)]\n",
    "    \n",
    "    ratios = []\n",
    "    cl = len(counts2)\n",
    "    for i in range(1, 11):\n",
    "        ratios.append(len(counts2[counts2==i])/cl)\n",
    "        \n",
    "        \n",
    "    step_groupings = []\n",
    "    cs = sum(counts2)\n",
    "    for i in range(0, 21):\n",
    "        step_groupings.append((i, sum(counts2[counts2>i])/cs))\n",
    "        \n",
    "    step_groupings = np.array(step_groupings)\n",
    "    l1, l2 = zip(*step_groupings)\n",
    "    print(\"How many edges had more than X visits in the same step\")\n",
    "    print(tabulate(step_groupings))\n",
    "    \n",
    "    \n",
    "    step_groupings_pd = pd.DataFrame()\n",
    "    step_groupings_pd['bound'] = l1\n",
    "    step_groupings_pd['fraction'] = l2\n",
    "\n",
    "    print(\"avg per step\")\n",
    "    print(np.average(counts2))\n",
    "    \n",
    "    \n",
    "    print(\"median per step\")\n",
    "    print(np.median(counts2))\n",
    "    \n",
    "    plt.plot(step_groupings_pd['bound'], step_groupings_pd['fraction'])\n",
    "    plt.xlabel(\"visits per step\")\n",
    "    plt.ylabel(\"fraction of total visits\")\n",
    "    plt.show()\n",
    "    \n",
    "    \n",
    "    plt.bar(range(1,11), np.array(ratios))\n",
    "    plt.xlabel(\"traversals per step\")\n",
    "    plt.ylabel(\"fraction of total traversals\")\n",
    "    plt.show()\n",
    "    \n",
    "    \n",
    "    plt.hist(counts2, bins=int(max(counts2)))\n",
    "    plt.xlabel(\"traversals per step\")\n",
    "    plt.ylabel(\"count\")\n",
    "    plt.show()\n",
    "    \n",
    "    \n",
    "    plt.plot(df2.groupby('source_neighbors').mean()['count'])\n",
    "    plt.xlabel(\"count of traversals\")\n",
    "    plt.ylabel(\"source node neighbors\")\n",
    "    plt.show()\n",
    "    \n",
    "    \n",
    "    count_mean = df2.groupby('source_neighbors').mean()['count']\n",
    "    count_mean_limit_100 = count_mean[count_mean.index < 100]\n",
    "    count_mean_limit_50 = count_mean[count_mean.index < 50]\n",
    "    count_mean_limit_10 = count_mean[count_mean.index < 10]\n",
    "    \n",
    "    \n",
    "    plt.plot(count_mean_limit_100)\n",
    "    plt.title(\"count_mean_limit_100\")\n",
    "    plt.ylabel(\"count of traversals\")\n",
    "    plt.xlabel(\"source node neighbors\")\n",
    "    plt.show()\n",
    "    \n",
    "    \n",
    "    plt.plot(count_mean_limit_50)\n",
    "    plt.title(\"count_mean_limit_50\")\n",
    "    plt.ylabel(\"count of traversals\")\n",
    "    plt.xlabel(\"source node neighbors\")\n",
    "    plt.show()\n",
    "    \n",
    "    \n",
    "    plt.plot(count_mean_limit_10)\n",
    "    plt.title(\"count_mean_limit_10\")\n",
    "    plt.ylabel(\"count of traversals\")\n",
    "    plt.xlabel(\"source node neighbors\")\n",
    "    plt.show()\n",
    "    \n",
    "    \n",
    "    plt.plot(df2.groupby('target_neighbors').mean()['count'])\n",
    "    plt.title(\"target count\")\n",
    "    plt.ylabel(\"count of traversals\")\n",
    "    plt.xlabel(\"target node neighbors\")\n",
    "    plt.show()\n",
    "    \n",
    "    \n",
    "    print(\"count mean\")\n",
    "    print(df2['count'].mean())\n",
    "    print(\"count max\")\n",
    "    print(max(df2['count']))\n",
    "    \n",
    "    \n",
    "    count_groups = df2.groupby('count').size()\n",
    "    \n",
    "    groupings_percentages = []\n",
    "    for i in range(1, max(df2['count']), 5):\n",
    "        groupings_percentages.append((i, sum(count_groups[count_groups.index >= i])/sum(count_groups)))\n",
    "    groupings_percentages = np.array(groupings_percentages)\n",
    "    \n",
    "    l1, l2 = zip(*groupings_percentages)\n",
    "    pd_groupings = pd.DataFrame()\n",
    "    pd_groupings['fraction'] = l2\n",
    "    pd_groupings['bound'] = l1\n",
    "    \n",
    "    pd_groupings_sig = pd_groupings[(pd_groupings['fraction'] > 0.05) & (pd_groupings['fraction'] < 0.95)]\n",
    "    \n",
    "    print(tabulate(pd_groupings_sig))\n",
    "    \n",
    "    \n",
    "    plt.plot(pd_groupings_sig['bound'], pd_groupings_sig['fraction'])\n",
    "    plt.xlabel(\"visits in total\")\n",
    "    plt.ylabel(\"fraction on total visits\")\n",
    "    plt.show()\n",
    "    \n",
    "    \n",
    "    plt.plot(df2.groupby('count').size())\n",
    "    plt.xlabel(\"visits per edge\")\n",
    "    plt.ylabel(\"number of occurrences\")\n",
    "    plt.show()\n",
    "    \n",
    "    count_groups = df2.groupby('count').size()\n",
    "    count_groups_500 = count_groups[count_groups < 500]\n",
    "    count_groups[count_groups < 10]"
   ]
  },
  {
   "cell_type": "code",
   "execution_count": 4,
   "metadata": {
    "code_folding": []
   },
   "outputs": [],
   "source": [
    "def stat_analysis2(df):\n",
    "    \n",
    "    return df"
   ]
  },
  {
   "cell_type": "code",
   "execution_count": 15,
   "metadata": {},
   "outputs": [],
   "source": [
    "def read_df(path):\n",
    "    return pd.read_json(path)"
   ]
  },
  {
   "cell_type": "code",
   "execution_count": 6,
   "metadata": {},
   "outputs": [],
   "source": [
    "def extract_stats(df):\n",
    "    df2 = pd.DataFrame(df.stats.values.tolist(), index=df.index.values)\n",
    "    return df2, df2.loc[~df2.index.str.contains(\"None\")]"
   ]
  },
  {
   "cell_type": "code",
   "execution_count": 19,
   "metadata": {},
   "outputs": [
    {
     "ename": "OSError",
     "evalue": "[Errno 22] Invalid argument",
     "output_type": "error",
     "traceback": [
      "\u001b[0;31m---------------------------------------------------------------------------\u001b[0m",
      "\u001b[0;31mOSError\u001b[0m                                   Traceback (most recent call last)",
      "\u001b[0;32m<ipython-input-19-3f98063186f0>\u001b[0m in \u001b[0;36m<module>\u001b[0;34m\u001b[0m\n\u001b[0;32m----> 1\u001b[0;31m \u001b[0mdf_32_100_1_06\u001b[0m \u001b[0;34m=\u001b[0m \u001b[0mread_df\u001b[0m\u001b[0;34m(\u001b[0m\u001b[0;34m\"/Users/w.jurasz/Studies/GR/node2vec/notebooks/data/bias_edge_16_80_1_0.6.json\"\u001b[0m\u001b[0;34m)\u001b[0m\u001b[0;34m\u001b[0m\u001b[0;34m\u001b[0m\u001b[0m\n\u001b[0m",
      "\u001b[0;32m<ipython-input-15-56dae37bffb5>\u001b[0m in \u001b[0;36mread_df\u001b[0;34m(path)\u001b[0m\n\u001b[1;32m      1\u001b[0m \u001b[0;32mdef\u001b[0m \u001b[0mread_df\u001b[0m\u001b[0;34m(\u001b[0m\u001b[0mpath\u001b[0m\u001b[0;34m)\u001b[0m\u001b[0;34m:\u001b[0m\u001b[0;34m\u001b[0m\u001b[0;34m\u001b[0m\u001b[0m\n\u001b[0;32m----> 2\u001b[0;31m     \u001b[0;32mreturn\u001b[0m \u001b[0mpd\u001b[0m\u001b[0;34m.\u001b[0m\u001b[0mread_json\u001b[0m\u001b[0;34m(\u001b[0m\u001b[0mpath\u001b[0m\u001b[0;34m)\u001b[0m\u001b[0;34m\u001b[0m\u001b[0;34m\u001b[0m\u001b[0m\n\u001b[0m",
      "\u001b[0;32m~/Studies/GR/node2vec/venv/lib/python3.7/site-packages/pandas/io/json/_json.py\u001b[0m in \u001b[0;36mread_json\u001b[0;34m(path_or_buf, orient, typ, dtype, convert_axes, convert_dates, keep_default_dates, numpy, precise_float, date_unit, encoding, lines, chunksize, compression)\u001b[0m\n\u001b[1;32m    584\u001b[0m         \u001b[0mlines\u001b[0m\u001b[0;34m=\u001b[0m\u001b[0mlines\u001b[0m\u001b[0;34m,\u001b[0m\u001b[0;34m\u001b[0m\u001b[0;34m\u001b[0m\u001b[0m\n\u001b[1;32m    585\u001b[0m         \u001b[0mchunksize\u001b[0m\u001b[0;34m=\u001b[0m\u001b[0mchunksize\u001b[0m\u001b[0;34m,\u001b[0m\u001b[0;34m\u001b[0m\u001b[0;34m\u001b[0m\u001b[0m\n\u001b[0;32m--> 586\u001b[0;31m         \u001b[0mcompression\u001b[0m\u001b[0;34m=\u001b[0m\u001b[0mcompression\u001b[0m\u001b[0;34m,\u001b[0m\u001b[0;34m\u001b[0m\u001b[0;34m\u001b[0m\u001b[0m\n\u001b[0m\u001b[1;32m    587\u001b[0m     )\n\u001b[1;32m    588\u001b[0m \u001b[0;34m\u001b[0m\u001b[0m\n",
      "\u001b[0;32m~/Studies/GR/node2vec/venv/lib/python3.7/site-packages/pandas/io/json/_json.py\u001b[0m in \u001b[0;36m__init__\u001b[0;34m(self, filepath_or_buffer, orient, typ, dtype, convert_axes, convert_dates, keep_default_dates, numpy, precise_float, date_unit, encoding, lines, chunksize, compression)\u001b[0m\n\u001b[1;32m    649\u001b[0m \u001b[0;34m\u001b[0m\u001b[0m\n\u001b[1;32m    650\u001b[0m         \u001b[0mdata\u001b[0m \u001b[0;34m=\u001b[0m \u001b[0mself\u001b[0m\u001b[0;34m.\u001b[0m\u001b[0m_get_data_from_filepath\u001b[0m\u001b[0;34m(\u001b[0m\u001b[0mfilepath_or_buffer\u001b[0m\u001b[0;34m)\u001b[0m\u001b[0;34m\u001b[0m\u001b[0;34m\u001b[0m\u001b[0m\n\u001b[0;32m--> 651\u001b[0;31m         \u001b[0mself\u001b[0m\u001b[0;34m.\u001b[0m\u001b[0mdata\u001b[0m \u001b[0;34m=\u001b[0m \u001b[0mself\u001b[0m\u001b[0;34m.\u001b[0m\u001b[0m_preprocess_data\u001b[0m\u001b[0;34m(\u001b[0m\u001b[0mdata\u001b[0m\u001b[0;34m)\u001b[0m\u001b[0;34m\u001b[0m\u001b[0;34m\u001b[0m\u001b[0m\n\u001b[0m\u001b[1;32m    652\u001b[0m \u001b[0;34m\u001b[0m\u001b[0m\n\u001b[1;32m    653\u001b[0m     \u001b[0;32mdef\u001b[0m \u001b[0m_preprocess_data\u001b[0m\u001b[0;34m(\u001b[0m\u001b[0mself\u001b[0m\u001b[0;34m,\u001b[0m \u001b[0mdata\u001b[0m\u001b[0;34m)\u001b[0m\u001b[0;34m:\u001b[0m\u001b[0;34m\u001b[0m\u001b[0;34m\u001b[0m\u001b[0m\n",
      "\u001b[0;32m~/Studies/GR/node2vec/venv/lib/python3.7/site-packages/pandas/io/json/_json.py\u001b[0m in \u001b[0;36m_preprocess_data\u001b[0;34m(self, data)\u001b[0m\n\u001b[1;32m    660\u001b[0m         \"\"\"\n\u001b[1;32m    661\u001b[0m         \u001b[0;32mif\u001b[0m \u001b[0mhasattr\u001b[0m\u001b[0;34m(\u001b[0m\u001b[0mdata\u001b[0m\u001b[0;34m,\u001b[0m \u001b[0;34m\"read\"\u001b[0m\u001b[0;34m)\u001b[0m \u001b[0;32mand\u001b[0m \u001b[0;32mnot\u001b[0m \u001b[0mself\u001b[0m\u001b[0;34m.\u001b[0m\u001b[0mchunksize\u001b[0m\u001b[0;34m:\u001b[0m\u001b[0;34m\u001b[0m\u001b[0;34m\u001b[0m\u001b[0m\n\u001b[0;32m--> 662\u001b[0;31m             \u001b[0mdata\u001b[0m \u001b[0;34m=\u001b[0m \u001b[0mdata\u001b[0m\u001b[0;34m.\u001b[0m\u001b[0mread\u001b[0m\u001b[0;34m(\u001b[0m\u001b[0;34m)\u001b[0m\u001b[0;34m\u001b[0m\u001b[0;34m\u001b[0m\u001b[0m\n\u001b[0m\u001b[1;32m    663\u001b[0m         \u001b[0;32mif\u001b[0m \u001b[0;32mnot\u001b[0m \u001b[0mhasattr\u001b[0m\u001b[0;34m(\u001b[0m\u001b[0mdata\u001b[0m\u001b[0;34m,\u001b[0m \u001b[0;34m\"read\"\u001b[0m\u001b[0;34m)\u001b[0m \u001b[0;32mand\u001b[0m \u001b[0mself\u001b[0m\u001b[0;34m.\u001b[0m\u001b[0mchunksize\u001b[0m\u001b[0;34m:\u001b[0m\u001b[0;34m\u001b[0m\u001b[0;34m\u001b[0m\u001b[0m\n\u001b[1;32m    664\u001b[0m             \u001b[0mdata\u001b[0m \u001b[0;34m=\u001b[0m \u001b[0mStringIO\u001b[0m\u001b[0;34m(\u001b[0m\u001b[0mdata\u001b[0m\u001b[0;34m)\u001b[0m\u001b[0;34m\u001b[0m\u001b[0;34m\u001b[0m\u001b[0m\n",
      "\u001b[0;31mOSError\u001b[0m: [Errno 22] Invalid argument"
     ]
    }
   ],
   "source": [
    "df_32_100_1_06 = read_df(\"/Users/w.jurasz/Studies/GR/node2vec/notebooks/data/bias_edge_16_80_1_0.6.json\")"
   ]
  },
  {
   "cell_type": "code",
   "execution_count": 11,
   "metadata": {},
   "outputs": [],
   "source": [
    "df = read_df(\"data/stats_120_80_16000.json\")\n",
    "dfe = extract_stats(df)"
   ]
  },
  {
   "cell_type": "code",
   "execution_count": 14,
   "metadata": {},
   "outputs": [
    {
     "name": "stdout",
     "output_type": "stream",
     "text": [
      "--  ----------\n",
      " 1  0.92194\n",
      " 2  0.769105\n",
      " 3  0.593741\n",
      " 4  0.43692\n",
      " 5  0.313101\n",
      " 6  0.221343\n",
      " 7  0.154917\n",
      " 8  0.107504\n",
      " 9  0.0742393\n",
      "10  0.0514895\n",
      "11  0.0363929\n",
      "12  0.0262766\n",
      "13  0.019723\n",
      "14  0.0152769\n",
      "15  0.0121369\n",
      "16  0.00981034\n",
      "17  0.00800851\n",
      "18  0.00656265\n",
      "19  0.00540744\n",
      "20  0.00446237\n",
      "--  ----------\n",
      "avg per step\n",
      "3.15021551231955\n",
      "median per step\n",
      "3.0\n"
     ]
    },
    {
     "data": {
      "image/png": "[encoded data removed]",
      "text/plain": [
       "<Figure size 432x288 with 1 Axes>"
      ]
     },
     "metadata": {
      "needs_background": "light"
     },
     "output_type": "display_data"
    },
    {
     "data": {
      "image/png": "[encoded data removed]",
      "text/plain": [
       "<Figure size 432x288 with 1 Axes>"
      ]
     },
     "metadata": {
      "needs_background": "light"
     },
     "output_type": "display_data"
    },
    {
     "data": {
      "image/png": "[encoded data removed]",
      "text/plain": [
       "<Figure size 432x288 with 1 Axes>"
      ]
     },
     "metadata": {
      "needs_background": "light"
     },
     "output_type": "display_data"
    },
    {
     "data": {
      "image/png": "[encoded data removed]",
      "text/plain": [
       "<Figure size 432x288 with 1 Axes>"
      ]
     },
     "metadata": {
      "needs_background": "light"
     },
     "output_type": "display_data"
    },
    {
     "data": {
      "image/png": "[encoded data removed]",
      "text/plain": [
       "<Figure size 432x288 with 1 Axes>"
      ]
     },
     "metadata": {
      "needs_background": "light"
     },
     "output_type": "display_data"
    },
    {
     "data": {
      "image/png": "[encoded data removed]",
      "text/plain": [
       "<Figure size 432x288 with 1 Axes>"
      ]
     },
     "metadata": {
      "needs_background": "light"
     },
     "output_type": "display_data"
    },
    {
     "data": {
      "image/png": "[encoded data removed]",
      "text/plain": [
       "<Figure size 432x288 with 1 Axes>"
      ]
     },
     "metadata": {
      "needs_background": "light"
     },
     "output_type": "display_data"
    },
    {
     "data": {
      "image/png": "[encoded data removed]",
      "text/plain": [
       "<Figure size 432x288 with 1 Axes>"
      ]
     },
     "metadata": {
      "needs_background": "light"
     },
     "output_type": "display_data"
    },
    {
     "name": "stdout",
     "output_type": "stream",
     "text": [
      "count mean\n",
      "212.12318635842377\n",
      "count max\n",
      "1696\n",
      "--  ---------  ---\n",
      "17  0.944373    86\n",
      "18  0.921333    91\n",
      "19  0.897705    96\n",
      "20  0.874254   101\n",
      "21  0.852526   106\n",
      "22  0.831225   111\n",
      "23  0.810196   116\n",
      "24  0.767594   121\n",
      "25  0.746326   126\n",
      "26  0.724537   131\n",
      "27  0.702482   136\n",
      "28  0.679652   141\n",
      "29  0.656961   146\n",
      "30  0.633942   151\n",
      "31  0.610996   156\n",
      "32  0.587872   161\n",
      "33  0.56554    166\n",
      "34  0.543181   171\n",
      "35  0.520911   176\n",
      "36  0.499604   181\n",
      "37  0.478297   186\n",
      "38  0.457727   191\n",
      "39  0.437207   196\n",
      "40  0.416926   201\n",
      "41  0.397957   206\n",
      "42  0.379431   211\n",
      "43  0.361687   216\n",
      "44  0.344845   221\n",
      "45  0.328198   226\n",
      "46  0.311595   231\n",
      "47  0.2958     236\n",
      "48  0.280964   241\n",
      "49  0.267364   246\n",
      "50  0.253846   251\n",
      "51  0.24127    256\n",
      "52  0.229243   261\n",
      "53  0.217975   266\n",
      "54  0.207316   271\n",
      "55  0.197826   276\n",
      "56  0.188824   281\n",
      "57  0.180314   286\n",
      "58  0.172592   291\n",
      "59  0.165412   296\n",
      "60  0.158908   301\n",
      "61  0.152692   306\n",
      "62  0.147379   311\n",
      "63  0.142676   316\n",
      "64  0.138205   321\n",
      "65  0.134244   326\n",
      "66  0.130394   331\n",
      "67  0.127147   336\n",
      "68  0.1242     341\n",
      "69  0.12127    346\n",
      "70  0.118782   351\n",
      "71  0.116483   356\n",
      "72  0.113901   361\n",
      "73  0.111469   366\n",
      "74  0.109037   371\n",
      "75  0.106544   376\n",
      "76  0.103941   381\n",
      "77  0.10122    386\n",
      "78  0.0984117  391\n",
      "79  0.0958744  396\n",
      "80  0.0933205  401\n",
      "81  0.0907832  406\n",
      "82  0.0880686  411\n",
      "83  0.0853485  416\n",
      "84  0.0826118  421\n",
      "85  0.0797531  426\n",
      "86  0.0766618  431\n",
      "87  0.0739639  436\n",
      "88  0.0712826  441\n",
      "89  0.0686289  446\n",
      "90  0.0659254  451\n",
      "91  0.0632939  456\n",
      "92  0.0606902  461\n",
      "93  0.0579756  466\n",
      "94  0.0553441  471\n",
      "95  0.052973   476\n",
      "96  0.0505022  481\n",
      "--  ---------  ---\n"
     ]
    },
    {
     "data": {
      "image/png": "[encoded data removed]",
      "text/plain": [
       "<Figure size 432x288 with 1 Axes>"
      ]
     },
     "metadata": {
      "needs_background": "light"
     },
     "output_type": "display_data"
    },
    {
     "data": {
      "image/png": "[encoded data removed]",
      "text/plain": [
       "<Figure size 432x288 with 1 Axes>"
      ]
     },
     "metadata": {
      "needs_background": "light"
     },
     "output_type": "display_data"
    }
   ],
   "source": [
    "stats_analysis(dfe[0], dfe[1])"
   ]
  },
  {
   "cell_type": "code",
   "execution_count": 15,
   "metadata": {},
   "outputs": [],
   "source": [
    "df = read_df(\"data/stats_120_80_1.json\")\n",
    "dfe_120_80_1 = extract_stats(df)"
   ]
  },
  {
   "cell_type": "code",
   "execution_count": 30,
   "metadata": {},
   "outputs": [
    {
     "name": "stdout",
     "output_type": "stream",
     "text": [
      "--  ----------\n",
      " 0  1\n",
      " 1  0.0431653\n",
      " 2  0.0320198\n",
      " 3  0.027237\n",
      " 4  0.0235433\n",
      " 5  0.0204606\n",
      " 6  0.0180117\n",
      " 7  0.0159588\n",
      " 8  0.0142373\n",
      " 9  0.0128139\n",
      "10  0.0115523\n",
      "11  0.0104392\n",
      "12  0.00950513\n",
      "13  0.00870748\n",
      "14  0.00798958\n",
      "15  0.007368\n",
      "16  0.00685986\n",
      "17  0.00637435\n",
      "18  0.00591789\n",
      "19  0.00554094\n",
      "20  0.00520015\n",
      "--  ----------\n",
      "avg per step\n",
      "1.033759247606491\n",
      "median per step\n",
      "1.0\n"
     ]
    },
    {
     "data": {
      "image/png": "[encoded data removed]",
      "text/plain": [
       "<Figure size 432x288 with 1 Axes>"
      ]
     },
     "metadata": {
      "needs_background": "light"
     },
     "output_type": "display_data"
    },
    {
     "data": {
      "image/png": "[encoded data removed]",
      "text/plain": [
       "<Figure size 432x288 with 1 Axes>"
      ]
     },
     "metadata": {
      "needs_background": "light"
     },
     "output_type": "display_data"
    },
    {
     "data": {
      "image/png": "[encoded data removed]",
      "text/plain": [
       "<Figure size 432x288 with 1 Axes>"
      ]
     },
     "metadata": {
      "needs_background": "light"
     },
     "output_type": "display_data"
    },
    {
     "data": {
      "image/png": "[encoded data removed]",
      "text/plain": [
       "<Figure size 432x288 with 1 Axes>"
      ]
     },
     "metadata": {
      "needs_background": "light"
     },
     "output_type": "display_data"
    },
    {
     "data": {
      "image/png": "[encoded data removed]",
      "text/plain": [
       "<Figure size 432x288 with 1 Axes>"
      ]
     },
     "metadata": {
      "needs_background": "light"
     },
     "output_type": "display_data"
    },
    {
     "data": {
      "image/png": "[encoded data removed]",
      "text/plain": [
       "<Figure size 432x288 with 1 Axes>"
      ]
     },
     "metadata": {
      "needs_background": "light"
     },
     "output_type": "display_data"
    },
    {
     "data": {
      "image/png": "[encoded data removed]",
      "text/plain": [
       "<Figure size 432x288 with 1 Axes>"
      ]
     },
     "metadata": {
      "needs_background": "light"
     },
     "output_type": "display_data"
    },
    {
     "data": {
      "image/png": "[encoded data removed]",
      "text/plain": [
       "<Figure size 432x288 with 1 Axes>"
      ]
     },
     "metadata": {
      "needs_background": "light"
     },
     "output_type": "display_data"
    },
    {
     "name": "stdout",
     "output_type": "stream",
     "text": [
      "count mean\n",
      "212.12318635842377\n",
      "count max\n",
      "1409\n",
      "--  ---------  ---\n",
      "20  0.917034   101\n",
      "21  0.879617   106\n",
      "22  0.847945   111\n",
      "23  0.823586   116\n",
      "24  0.781781   121\n",
      "25  0.762896   126\n",
      "26  0.742841   131\n",
      "27  0.721667   136\n",
      "28  0.700521   141\n",
      "29  0.679298   146\n",
      "30  0.65762    151\n",
      "31  0.632867   156\n",
      "32  0.604176   161\n",
      "33  0.572083   166\n",
      "34  0.541663   171\n",
      "35  0.513592   176\n",
      "36  0.490928   181\n",
      "37  0.473832   186\n",
      "38  0.46078    191\n",
      "39  0.449052   196\n",
      "40  0.436836   201\n",
      "41  0.421485   206\n",
      "42  0.403525   211\n",
      "43  0.382528   216\n",
      "44  0.359521   221\n",
      "45  0.336209   226\n",
      "46  0.312769   231\n",
      "47  0.28939    236\n",
      "48  0.266051   241\n",
      "49  0.243558   246\n",
      "50  0.222224   251\n",
      "51  0.202585   256\n",
      "52  0.184946   261\n",
      "53  0.169534   266\n",
      "54  0.157512   271\n",
      "55  0.148238   276\n",
      "56  0.141485   281\n",
      "57  0.136338   286\n",
      "58  0.132937   291\n",
      "59  0.130322   296\n",
      "60  0.128388   301\n",
      "61  0.126527   306\n",
      "62  0.124965   311\n",
      "63  0.123774   316\n",
      "64  0.122588   321\n",
      "65  0.12163    326\n",
      "66  0.120677   331\n",
      "67  0.11984    336\n",
      "68  0.119137   341\n",
      "69  0.118538   346\n",
      "70  0.117923   351\n",
      "71  0.117369   356\n",
      "72  0.116871   361\n",
      "73  0.116483   366\n",
      "74  0.116145   371\n",
      "75  0.11584    376\n",
      "76  0.115558   381\n",
      "77  0.115275   386\n",
      "78  0.114965   391\n",
      "79  0.114666   396\n",
      "80  0.114145   401\n",
      "81  0.113497   406\n",
      "82  0.112433   411\n",
      "83  0.111015   416\n",
      "84  0.109165   421\n",
      "85  0.106927   426\n",
      "86  0.104267   431\n",
      "87  0.100988   436\n",
      "88  0.0971763  441\n",
      "89  0.0929216  446\n",
      "90  0.0879024  451\n",
      "91  0.0826727  456\n",
      "92  0.0769222  461\n",
      "93  0.0704349  466\n",
      "94  0.06392    471\n",
      "95  0.0573939  476\n",
      "96  0.0508401  481\n",
      "--  ---------  ---\n"
     ]
    },
    {
     "data": {
      "image/png": "[encoded data removed]",
      "text/plain": [
       "<Figure size 432x288 with 1 Axes>"
      ]
     },
     "metadata": {
      "needs_background": "light"
     },
     "output_type": "display_data"
    },
    {
     "data": {
      "image/png": "[encoded data removed]",
      "text/plain": [
       "<Figure size 432x288 with 1 Axes>"
      ]
     },
     "metadata": {
      "needs_background": "light"
     },
     "output_type": "display_data"
    }
   ],
   "source": [
    "stats_analysis(dfe_120_80_1[0], dfe_120_80_1[1])"
   ]
  },
  {
   "cell_type": "code",
   "execution_count": 16,
   "metadata": {},
   "outputs": [
    {
     "data": {
      "text/plain": [
       "(0, 1)        1.817204\n",
       "(0, 10)       1.693662\n",
       "(0, 100)      1.654362\n",
       "(0, 101)      1.825279\n",
       "(0, 102)      1.903915\n",
       "                ...   \n",
       "(999, 916)    1.039735\n",
       "(999, 925)    1.025316\n",
       "(999, 947)    1.044586\n",
       "(999, 966)    1.053571\n",
       "(999, 968)    1.069892\n",
       "Length: 176468, dtype: float64"
      ]
     },
     "execution_count": 16,
     "metadata": {},
     "output_type": "execute_result"
    }
   ],
   "source": [
    "stat_analysis2(df_starting_nodes).fillna(0).sum(axis=1) / stat_analysis2(df_starting_nodes).count(axis=1)"
   ]
  },
  {
   "cell_type": "code",
   "execution_count": 18,
   "metadata": {},
   "outputs": [],
   "source": [
    "dfc = df_starting_nodes.count(axis=1)"
   ]
  },
  {
   "cell_type": "code",
   "execution_count": 22,
   "metadata": {},
   "outputs": [
    {
     "data": {
      "text/plain": [
       "172.17763560532222"
      ]
     },
     "execution_count": 22,
     "metadata": {},
     "output_type": "execute_result"
    }
   ],
   "source": [
    "dfc.mean()"
   ]
  },
  {
   "cell_type": "code",
   "execution_count": 20,
   "metadata": {},
   "outputs": [],
   "source": [
    "dfs = df_starting_nodes.fillna(0).sum(axis=1)"
   ]
  },
  {
   "cell_type": "code",
   "execution_count": 23,
   "metadata": {},
   "outputs": [
    {
     "data": {
      "text/plain": [
       "210.58292154951607"
      ]
     },
     "execution_count": 23,
     "metadata": {},
     "output_type": "execute_result"
    }
   ],
   "source": [
    "dfs.mean()"
   ]
  },
  {
   "cell_type": "code",
   "execution_count": 52,
   "metadata": {},
   "outputs": [
    {
     "data": {
      "text/plain": [
       "(0, 1)        279\n",
       "(0, 10)       284\n",
       "(0, 100)      298\n",
       "(0, 101)      269\n",
       "(0, 102)      281\n",
       "             ... \n",
       "(999, 916)    151\n",
       "(999, 925)    158\n",
       "(999, 947)    157\n",
       "(999, 966)    168\n",
       "(999, 968)    186\n",
       "Length: 176468, dtype: int64"
      ]
     },
     "execution_count": 52,
     "metadata": {},
     "output_type": "execute_result"
    }
   ],
   "source": [
    "dfc"
   ]
  },
  {
   "cell_type": "code",
   "execution_count": 53,
   "metadata": {},
   "outputs": [
    {
     "data": {
      "text/plain": [
       "(0, 1)        279\n",
       "(0, 10)       284\n",
       "(0, 100)      298\n",
       "(0, 101)      269\n",
       "(0, 102)      281\n",
       "             ... \n",
       "(999, 916)    151\n",
       "(999, 925)    158\n",
       "(999, 947)    157\n",
       "(999, 966)    168\n",
       "(999, 968)    186\n",
       "Length: 176468, dtype: int64"
      ]
     },
     "execution_count": 53,
     "metadata": {},
     "output_type": "execute_result"
    }
   ],
   "source": [
    "dfbc"
   ]
  },
  {
   "cell_type": "code",
   "execution_count": 6,
   "metadata": {},
   "outputs": [],
   "source": [
    "df = pd.read_json(\"data/stats_120_80_1.json\")"
   ]
  },
  {
   "cell_type": "code",
   "execution_count": 8,
   "metadata": {},
   "outputs": [],
   "source": [
    "df2 = pd.DataFrame(df.stats.values.tolist(), index=df.index.values)\n",
    "df3 = df2.loc[~df2.index.str.contains(\"None\")]\n",
    "    \n"
   ]
  },
  {
   "cell_type": "code",
   "execution_count": 24,
   "metadata": {},
   "outputs": [],
   "source": [
    "df_batches = pd.DataFrame(df3.batch_id.values.tolist(), index=df3.index.values)\n"
   ]
  },
  {
   "cell_type": "code",
   "execution_count": 48,
   "metadata": {},
   "outputs": [],
   "source": [
    "dfbc = df_batches.count(axis=1)"
   ]
  },
  {
   "cell_type": "code",
   "execution_count": 50,
   "metadata": {},
   "outputs": [
    {
     "data": {
      "text/plain": [
       "172.17763560532222"
      ]
     },
     "execution_count": 50,
     "metadata": {},
     "output_type": "execute_result"
    }
   ],
   "source": [
    "dfbc.mean()"
   ]
  },
  {
   "cell_type": "code",
   "execution_count": 11,
   "metadata": {},
   "outputs": [],
   "source": [
    "df_starting_nodes = pd.DataFrame(df3.starting_nodes.values.tolist(), index=df3.index.values)\n",
    "# df_starting_nodes = df_starting_nodes.fillna(0)"
   ]
  },
  {
   "cell_type": "code",
   "execution_count": null,
   "metadata": {},
   "outputs": [],
   "source": [
    "df = pd.read_json(\"data/stats.json\")"
   ]
  },
  {
   "cell_type": "code",
   "execution_count": null,
   "metadata": {},
   "outputs": [],
   "source": [
    "df1 = pd.read_json(\"data/stats1.json\")"
   ]
  },
  {
   "cell_type": "code",
   "execution_count": null,
   "metadata": {},
   "outputs": [],
   "source": [
    "df128 = pd.read_json(\"data/stats_20_10_128.json\")\n",
    "df32 = pd.read_json(\"data/stats_20_10_32.json\")\n",
    "df1 = pd.read_json(\"data/stats_20_10_1.json\")"
   ]
  },
  {
   "cell_type": "code",
   "execution_count": null,
   "metadata": {},
   "outputs": [],
   "source": [
    "df_80_1024 = pd.read_json(\"data/stats_120_80_1024.json\")\n",
    "df_80_512 = pd.read_json(\"data/stats_120_80_512.json\")\n",
    "df_80_128 = pd.read_json(\"data/stats_120_80_128.json\")\n",
    "df_80_64 = pd.read_json(\"data/stats_120_80_64.json\")\n",
    "df_80_16 = pd.read_json(\"data/stats_120_80_16.json\")\n",
    "df_80_1 = pd.read_json(\"data/stats_120_80_1.json\")"
   ]
  },
  {
   "cell_type": "code",
   "execution_count": null,
   "metadata": {},
   "outputs": [],
   "source": [
    "df_80_16000 = pd.read_json(\"data/stats_120_80_16000.json\")"
   ]
  },
  {
   "cell_type": "code",
   "execution_count": null,
   "metadata": {},
   "outputs": [],
   "source": [
    "df1 = pd.read_json(\"data/stats_20_20_1.json\")\n",
    "df16 = pd.read_json(\"data/stats_20_20_16.json\")\n",
    "df64 = pd.read_json(\"data/stats_20_20_64.json\")"
   ]
  },
  {
   "cell_type": "code",
   "execution_count": null,
   "metadata": {},
   "outputs": [],
   "source": [
    "df_80_131072 = pd.read_json(\"data/stats_120_80_131072.json\")\n",
    "df_80_65536 = pd.read_json(\"data/stats_120_80_65536.json\")\n",
    "df_80_2048 = pd.read_json(\"data/stats_120_80_2048.json\")\n",
    "df_80_512 = pd.read_json(\"data/stats_120_80_512.json\")\n",
    "df_80_128 = pd.read_json(\"data/stats_120_80_128.json\")\n",
    "df_80_16 = pd.read_json(\"data/stats_120_80_16.json\")"
   ]
  },
  {
   "cell_type": "code",
   "execution_count": 29,
   "metadata": {},
   "outputs": [],
   "source": [
    "df_120_80_64 = pd.read_json(\"data/stats_120_80_64.json\")"
   ]
  },
  {
   "cell_type": "code",
   "execution_count": 35,
   "metadata": {},
   "outputs": [
    {
     "data": {
      "text/plain": [
       "(0, 1)         {'count': 334, 'source_neighbors': 347, 'targe...\n",
       "(0, 10)        {'count': 415, 'source_neighbors': 347, 'targe...\n",
       "(0, 100)       {'count': 419, 'source_neighbors': 347, 'targe...\n",
       "(0, 101)       {'count': 411, 'source_neighbors': 347, 'targe...\n",
       "(0, 102)       {'count': 601, 'source_neighbors': 347, 'targe...\n",
       "                                     ...                        \n",
       "(999, 925)     {'count': 186, 'source_neighbors': 77, 'target...\n",
       "(999, 947)     {'count': 154, 'source_neighbors': 77, 'target...\n",
       "(999, 966)     {'count': 183, 'source_neighbors': 77, 'target...\n",
       "(999, 968)     {'count': 253, 'source_neighbors': 77, 'target...\n",
       "(999, None)    {'count': 120, 'source_neighbors': 77, 'target...\n",
       "Name: stats, Length: 180507, dtype: object"
      ]
     },
     "execution_count": 35,
     "metadata": {},
     "output_type": "execute_result"
    }
   ],
   "source": [
    "df_120_80_64.stats"
   ]
  },
  {
   "cell_type": "code",
   "execution_count": 36,
   "metadata": {},
   "outputs": [],
   "source": [
    "df_120_80_64v2 = pd.DataFrame(df_120_80_64.stats.values.tolist(), index=df_120_80_64.index.values)"
   ]
  },
  {
   "cell_type": "code",
   "execution_count": 41,
   "metadata": {},
   "outputs": [],
   "source": [
    "df_120_80_64v3 = df_120_80_64v2.loc[~df2.index.str.contains(\"None\")]"
   ]
  },
  {
   "cell_type": "code",
   "execution_count": 43,
   "metadata": {},
   "outputs": [],
   "source": [
    "dfa = df_120_80_64v3['count']/ df_120_80_64v3['target_neighbors']"
   ]
  },
  {
   "cell_type": "code",
   "execution_count": 45,
   "metadata": {},
   "outputs": [
    {
     "data": {
      "text/plain": [
       "7.364761683968151"
      ]
     },
     "execution_count": 45,
     "metadata": {},
     "output_type": "execute_result"
    }
   ],
   "source": [
    "dfa.mean()"
   ]
  },
  {
   "cell_type": "code",
   "execution_count": 27,
   "metadata": {},
   "outputs": [
    {
     "data": {
      "text/plain": [
       "(0, 10)        {'count': 1, 'source_neighbors': 347, 'target_...\n",
       "(0, 102)       {'count': 1, 'source_neighbors': 347, 'target_...\n",
       "(0, 103)       {'count': 1, 'source_neighbors': 347, 'target_...\n",
       "(0, 104)       {'count': 1, 'source_neighbors': 347, 'target_...\n",
       "(0, 107)       {'count': 1, 'source_neighbors': 347, 'target_...\n",
       "                                     ...                        \n",
       "(999, 1888)    {'count': 1, 'source_neighbors': 77, 'target_n...\n",
       "(999, 925)     {'count': 2, 'source_neighbors': 77, 'target_n...\n",
       "(999, 966)     {'count': 3, 'source_neighbors': 77, 'target_n...\n",
       "(999, 968)     {'count': 3, 'source_neighbors': 77, 'target_n...\n",
       "(999, None)    {'count': 20, 'source_neighbors': 77, 'target_...\n",
       "Name: stats, Length: 146916, dtype: object"
      ]
     },
     "execution_count": 27,
     "metadata": {},
     "output_type": "execute_result"
    }
   ],
   "source": [
    "df_20_10_1['stats']"
   ]
  },
  {
   "cell_type": "code",
   "execution_count": null,
   "metadata": {},
   "outputs": [],
   "source": [
    "stats_analysis(df1)"
   ]
  },
  {
   "cell_type": "code",
   "execution_count": null,
   "metadata": {},
   "outputs": [],
   "source": [
    "stats_analysis(df_80_131072)"
   ]
  },
  {
   "cell_type": "code",
   "execution_count": null,
   "metadata": {},
   "outputs": [],
   "source": [
    "stats_analysis(df_80_65536)"
   ]
  },
  {
   "cell_type": "code",
   "execution_count": null,
   "metadata": {},
   "outputs": [],
   "source": [
    "stats_analysis(df_80_2048)"
   ]
  },
  {
   "cell_type": "code",
   "execution_count": null,
   "metadata": {},
   "outputs": [],
   "source": [
    "stats_analysis(df_80_512)"
   ]
  },
  {
   "cell_type": "code",
   "execution_count": null,
   "metadata": {},
   "outputs": [],
   "source": [
    "stats_analysis(df_80_128)"
   ]
  },
  {
   "cell_type": "code",
   "execution_count": null,
   "metadata": {},
   "outputs": [],
   "source": [
    "stats_analysis(df_80_16)"
   ]
  },
  {
   "cell_type": "code",
   "execution_count": null,
   "metadata": {},
   "outputs": [],
   "source": [
    "with open(\"data/stats.json\") as datafile:\n",
    "    data = json.load(datafile)\n"
   ]
  },
  {
   "cell_type": "code",
   "execution_count": null,
   "metadata": {},
   "outputs": [],
   "source": [
    "df = pd.read_json(\"data/stats.json\")"
   ]
  },
  {
   "cell_type": "code",
   "execution_count": null,
   "metadata": {},
   "outputs": [],
   "source": [
    "df = df128"
   ]
  },
  {
   "cell_type": "code",
   "execution_count": null,
   "metadata": {},
   "outputs": [],
   "source": [
    "df.index.values"
   ]
  },
  {
   "cell_type": "code",
   "execution_count": null,
   "metadata": {
    "pycharm": {
     "is_executing": false
    }
   },
   "outputs": [],
   "source": [
    "df2 = pd.DataFrame(df.stats.values.tolist(), index=df.index.values)"
   ]
  },
  {
   "cell_type": "code",
   "execution_count": null,
   "metadata": {},
   "outputs": [],
   "source": [
    "df2.loc['(1096, 107)']"
   ]
  },
  {
   "cell_type": "code",
   "execution_count": null,
   "metadata": {},
   "outputs": [],
   "source": [
    "df3 = df2.loc[~df2.index.str.contains(\"None\")]"
   ]
  },
  {
   "cell_type": "code",
   "execution_count": null,
   "metadata": {},
   "outputs": [],
   "source": [
    "df4 = df2.loc[df2.index.str.contains(\"None\")]"
   ]
  },
  {
   "cell_type": "code",
   "execution_count": null,
   "metadata": {},
   "outputs": [],
   "source": [
    "df3"
   ]
  },
  {
   "cell_type": "code",
   "execution_count": null,
   "metadata": {},
   "outputs": [],
   "source": [
    "df3"
   ]
  },
  {
   "cell_type": "code",
   "execution_count": null,
   "metadata": {},
   "outputs": [],
   "source": [
    "df3.time_access.values.tolist()"
   ]
  },
  {
   "cell_type": "code",
   "execution_count": 17,
   "metadata": {
    "pycharm": {
     "is_executing": false,
     "name": "#%%\n"
    }
   },
   "outputs": [],
   "source": [
    "df_time_access = pd.DataFrame(dfe_120_80_1[1].time_access.values.tolist(), index=dfe_120_80_1[1].index.values)"
   ]
  },
  {
   "cell_type": "code",
   "execution_count": 18,
   "metadata": {
    "pycharm": {
     "is_executing": false,
     "name": "#%%\n"
    }
   },
   "outputs": [
    {
     "ename": "NameError",
     "evalue": "name 'df3' is not defined",
     "output_type": "error",
     "traceback": [
      "\u001b[0;31m---------------------------------------------------------------------------\u001b[0m",
      "\u001b[0;31mNameError\u001b[0m                                 Traceback (most recent call last)",
      "\u001b[0;32m<ipython-input-18-b969f6e6bd17>\u001b[0m in \u001b[0;36m<module>\u001b[0;34m\u001b[0m\n\u001b[0;32m----> 1\u001b[0;31m \u001b[0mdf3\u001b[0m\u001b[0;34m.\u001b[0m\u001b[0mtime_access\u001b[0m\u001b[0;34m.\u001b[0m\u001b[0mvalues\u001b[0m\u001b[0;34m.\u001b[0m\u001b[0mtolist\u001b[0m\u001b[0;34m(\u001b[0m\u001b[0;34m)\u001b[0m\u001b[0;34m\u001b[0m\u001b[0;34m\u001b[0m\u001b[0m\n\u001b[0m",
      "\u001b[0;31mNameError\u001b[0m: name 'df3' is not defined"
     ]
    }
   ],
   "source": [
    "df3.time_access.values.tolist()"
   ]
  },
  {
   "cell_type": "code",
   "execution_count": 19,
   "metadata": {
    "pycharm": {
     "name": "#%%\n"
    }
   },
   "outputs": [],
   "source": [
    "df_time_access = df_time_access.fillna(0)"
   ]
  },
  {
   "cell_type": "code",
   "execution_count": 20,
   "metadata": {},
   "outputs": [
    {
     "data": {
      "text/plain": [
       "17    (3980, 4017)\n",
       "51    (3994, 3982)\n",
       "2          (0, 11)\n",
       "4       (414, 642)\n",
       "19    (1918, 2381)\n",
       "          ...     \n",
       "5     (3980, 4001)\n",
       "42    (3988, 3980)\n",
       "65    (3982, 4003)\n",
       "55    (3488, 3557)\n",
       "52    (3980, 4008)\n",
       "Length: 78, dtype: object"
      ]
     },
     "execution_count": 20,
     "metadata": {},
     "output_type": "execute_result"
    }
   ],
   "source": [
    "df_time_access.idxmax()"
   ]
  },
  {
   "cell_type": "code",
   "execution_count": 21,
   "metadata": {
    "pycharm": {
     "is_executing": false
    }
   },
   "outputs": [],
   "source": [
    "counts = df_time_access.values.flatten()\n"
   ]
  },
  {
   "cell_type": "code",
   "execution_count": 23,
   "metadata": {},
   "outputs": [
    {
     "data": {
      "text/html": [
       "<div>\n",
       "<style scoped>\n",
       "    .dataframe tbody tr th:only-of-type {\n",
       "        vertical-align: middle;\n",
       "    }\n",
       "\n",
       "    .dataframe tbody tr th {\n",
       "        vertical-align: top;\n",
       "    }\n",
       "\n",
       "    .dataframe thead th {\n",
       "        text-align: right;\n",
       "    }\n",
       "</style>\n",
       "<table border=\"1\" class=\"dataframe\">\n",
       "  <thead>\n",
       "    <tr style=\"text-align: right;\">\n",
       "      <th></th>\n",
       "      <th>17</th>\n",
       "      <th>51</th>\n",
       "      <th>2</th>\n",
       "      <th>4</th>\n",
       "      <th>19</th>\n",
       "      <th>21</th>\n",
       "      <th>37</th>\n",
       "      <th>57</th>\n",
       "      <th>11</th>\n",
       "      <th>46</th>\n",
       "      <th>...</th>\n",
       "      <th>70</th>\n",
       "      <th>73</th>\n",
       "      <th>75</th>\n",
       "      <th>32</th>\n",
       "      <th>62</th>\n",
       "      <th>5</th>\n",
       "      <th>42</th>\n",
       "      <th>65</th>\n",
       "      <th>55</th>\n",
       "      <th>52</th>\n",
       "    </tr>\n",
       "  </thead>\n",
       "  <tbody>\n",
       "    <tr>\n",
       "      <td>(0, 1)</td>\n",
       "      <td>1.0</td>\n",
       "      <td>1.0</td>\n",
       "      <td>7.0</td>\n",
       "      <td>1.0</td>\n",
       "      <td>1.0</td>\n",
       "      <td>1.0</td>\n",
       "      <td>1.0</td>\n",
       "      <td>1.0</td>\n",
       "      <td>1.0</td>\n",
       "      <td>1.0</td>\n",
       "      <td>...</td>\n",
       "      <td>1.0</td>\n",
       "      <td>1.0</td>\n",
       "      <td>1.0</td>\n",
       "      <td>1.0</td>\n",
       "      <td>1.0</td>\n",
       "      <td>1.0</td>\n",
       "      <td>1.0</td>\n",
       "      <td>1.0</td>\n",
       "      <td>1.0</td>\n",
       "      <td>1.0</td>\n",
       "    </tr>\n",
       "    <tr>\n",
       "      <td>(0, 10)</td>\n",
       "      <td>1.0</td>\n",
       "      <td>1.0</td>\n",
       "      <td>8.0</td>\n",
       "      <td>1.0</td>\n",
       "      <td>1.0</td>\n",
       "      <td>1.0</td>\n",
       "      <td>1.0</td>\n",
       "      <td>1.0</td>\n",
       "      <td>1.0</td>\n",
       "      <td>1.0</td>\n",
       "      <td>...</td>\n",
       "      <td>1.0</td>\n",
       "      <td>1.0</td>\n",
       "      <td>1.0</td>\n",
       "      <td>1.0</td>\n",
       "      <td>1.0</td>\n",
       "      <td>1.0</td>\n",
       "      <td>1.0</td>\n",
       "      <td>1.0</td>\n",
       "      <td>1.0</td>\n",
       "      <td>1.0</td>\n",
       "    </tr>\n",
       "    <tr>\n",
       "      <td>(0, 100)</td>\n",
       "      <td>1.0</td>\n",
       "      <td>1.0</td>\n",
       "      <td>12.0</td>\n",
       "      <td>1.0</td>\n",
       "      <td>1.0</td>\n",
       "      <td>1.0</td>\n",
       "      <td>1.0</td>\n",
       "      <td>1.0</td>\n",
       "      <td>1.0</td>\n",
       "      <td>1.0</td>\n",
       "      <td>...</td>\n",
       "      <td>1.0</td>\n",
       "      <td>1.0</td>\n",
       "      <td>1.0</td>\n",
       "      <td>1.0</td>\n",
       "      <td>1.0</td>\n",
       "      <td>1.0</td>\n",
       "      <td>1.0</td>\n",
       "      <td>1.0</td>\n",
       "      <td>1.0</td>\n",
       "      <td>1.0</td>\n",
       "    </tr>\n",
       "    <tr>\n",
       "      <td>(0, 101)</td>\n",
       "      <td>1.0</td>\n",
       "      <td>1.0</td>\n",
       "      <td>10.0</td>\n",
       "      <td>1.0</td>\n",
       "      <td>1.0</td>\n",
       "      <td>1.0</td>\n",
       "      <td>1.0</td>\n",
       "      <td>1.0</td>\n",
       "      <td>1.0</td>\n",
       "      <td>1.0</td>\n",
       "      <td>...</td>\n",
       "      <td>1.0</td>\n",
       "      <td>1.0</td>\n",
       "      <td>1.0</td>\n",
       "      <td>1.0</td>\n",
       "      <td>1.0</td>\n",
       "      <td>1.0</td>\n",
       "      <td>1.0</td>\n",
       "      <td>1.0</td>\n",
       "      <td>1.0</td>\n",
       "      <td>1.0</td>\n",
       "    </tr>\n",
       "    <tr>\n",
       "      <td>(0, 102)</td>\n",
       "      <td>1.0</td>\n",
       "      <td>1.0</td>\n",
       "      <td>18.0</td>\n",
       "      <td>1.0</td>\n",
       "      <td>1.0</td>\n",
       "      <td>1.0</td>\n",
       "      <td>1.0</td>\n",
       "      <td>1.0</td>\n",
       "      <td>1.0</td>\n",
       "      <td>1.0</td>\n",
       "      <td>...</td>\n",
       "      <td>1.0</td>\n",
       "      <td>1.0</td>\n",
       "      <td>1.0</td>\n",
       "      <td>1.0</td>\n",
       "      <td>1.0</td>\n",
       "      <td>1.0</td>\n",
       "      <td>1.0</td>\n",
       "      <td>1.0</td>\n",
       "      <td>1.0</td>\n",
       "      <td>1.0</td>\n",
       "    </tr>\n",
       "    <tr>\n",
       "      <td>...</td>\n",
       "      <td>...</td>\n",
       "      <td>...</td>\n",
       "      <td>...</td>\n",
       "      <td>...</td>\n",
       "      <td>...</td>\n",
       "      <td>...</td>\n",
       "      <td>...</td>\n",
       "      <td>...</td>\n",
       "      <td>...</td>\n",
       "      <td>...</td>\n",
       "      <td>...</td>\n",
       "      <td>...</td>\n",
       "      <td>...</td>\n",
       "      <td>...</td>\n",
       "      <td>...</td>\n",
       "      <td>...</td>\n",
       "      <td>...</td>\n",
       "      <td>...</td>\n",
       "      <td>...</td>\n",
       "      <td>...</td>\n",
       "      <td>...</td>\n",
       "    </tr>\n",
       "    <tr>\n",
       "      <td>(999, 916)</td>\n",
       "      <td>1.0</td>\n",
       "      <td>1.0</td>\n",
       "      <td>3.0</td>\n",
       "      <td>0.0</td>\n",
       "      <td>1.0</td>\n",
       "      <td>1.0</td>\n",
       "      <td>1.0</td>\n",
       "      <td>1.0</td>\n",
       "      <td>1.0</td>\n",
       "      <td>1.0</td>\n",
       "      <td>...</td>\n",
       "      <td>1.0</td>\n",
       "      <td>1.0</td>\n",
       "      <td>1.0</td>\n",
       "      <td>0.0</td>\n",
       "      <td>1.0</td>\n",
       "      <td>1.0</td>\n",
       "      <td>0.0</td>\n",
       "      <td>0.0</td>\n",
       "      <td>1.0</td>\n",
       "      <td>1.0</td>\n",
       "    </tr>\n",
       "    <tr>\n",
       "      <td>(999, 925)</td>\n",
       "      <td>1.0</td>\n",
       "      <td>1.0</td>\n",
       "      <td>2.0</td>\n",
       "      <td>1.0</td>\n",
       "      <td>1.0</td>\n",
       "      <td>1.0</td>\n",
       "      <td>1.0</td>\n",
       "      <td>1.0</td>\n",
       "      <td>1.0</td>\n",
       "      <td>1.0</td>\n",
       "      <td>...</td>\n",
       "      <td>1.0</td>\n",
       "      <td>1.0</td>\n",
       "      <td>1.0</td>\n",
       "      <td>1.0</td>\n",
       "      <td>0.0</td>\n",
       "      <td>1.0</td>\n",
       "      <td>1.0</td>\n",
       "      <td>1.0</td>\n",
       "      <td>0.0</td>\n",
       "      <td>1.0</td>\n",
       "    </tr>\n",
       "    <tr>\n",
       "      <td>(999, 947)</td>\n",
       "      <td>1.0</td>\n",
       "      <td>1.0</td>\n",
       "      <td>0.0</td>\n",
       "      <td>1.0</td>\n",
       "      <td>1.0</td>\n",
       "      <td>1.0</td>\n",
       "      <td>1.0</td>\n",
       "      <td>1.0</td>\n",
       "      <td>1.0</td>\n",
       "      <td>1.0</td>\n",
       "      <td>...</td>\n",
       "      <td>1.0</td>\n",
       "      <td>1.0</td>\n",
       "      <td>0.0</td>\n",
       "      <td>1.0</td>\n",
       "      <td>1.0</td>\n",
       "      <td>1.0</td>\n",
       "      <td>1.0</td>\n",
       "      <td>1.0</td>\n",
       "      <td>1.0</td>\n",
       "      <td>1.0</td>\n",
       "    </tr>\n",
       "    <tr>\n",
       "      <td>(999, 966)</td>\n",
       "      <td>1.0</td>\n",
       "      <td>1.0</td>\n",
       "      <td>0.0</td>\n",
       "      <td>1.0</td>\n",
       "      <td>1.0</td>\n",
       "      <td>1.0</td>\n",
       "      <td>1.0</td>\n",
       "      <td>1.0</td>\n",
       "      <td>1.0</td>\n",
       "      <td>1.0</td>\n",
       "      <td>...</td>\n",
       "      <td>1.0</td>\n",
       "      <td>1.0</td>\n",
       "      <td>1.0</td>\n",
       "      <td>1.0</td>\n",
       "      <td>1.0</td>\n",
       "      <td>1.0</td>\n",
       "      <td>0.0</td>\n",
       "      <td>0.0</td>\n",
       "      <td>1.0</td>\n",
       "      <td>1.0</td>\n",
       "    </tr>\n",
       "    <tr>\n",
       "      <td>(999, 968)</td>\n",
       "      <td>1.0</td>\n",
       "      <td>1.0</td>\n",
       "      <td>7.0</td>\n",
       "      <td>1.0</td>\n",
       "      <td>1.0</td>\n",
       "      <td>1.0</td>\n",
       "      <td>1.0</td>\n",
       "      <td>1.0</td>\n",
       "      <td>1.0</td>\n",
       "      <td>1.0</td>\n",
       "      <td>...</td>\n",
       "      <td>1.0</td>\n",
       "      <td>1.0</td>\n",
       "      <td>1.0</td>\n",
       "      <td>1.0</td>\n",
       "      <td>1.0</td>\n",
       "      <td>1.0</td>\n",
       "      <td>1.0</td>\n",
       "      <td>1.0</td>\n",
       "      <td>1.0</td>\n",
       "      <td>1.0</td>\n",
       "    </tr>\n",
       "  </tbody>\n",
       "</table>\n",
       "<p>176468 rows × 78 columns</p>\n",
       "</div>"
      ],
      "text/plain": [
       "             17   51     2    4   19   21   37   57   11   46  ...   70   73  \\\n",
       "(0, 1)      1.0  1.0   7.0  1.0  1.0  1.0  1.0  1.0  1.0  1.0  ...  1.0  1.0   \n",
       "(0, 10)     1.0  1.0   8.0  1.0  1.0  1.0  1.0  1.0  1.0  1.0  ...  1.0  1.0   \n",
       "(0, 100)    1.0  1.0  12.0  1.0  1.0  1.0  1.0  1.0  1.0  1.0  ...  1.0  1.0   \n",
       "(0, 101)    1.0  1.0  10.0  1.0  1.0  1.0  1.0  1.0  1.0  1.0  ...  1.0  1.0   \n",
       "(0, 102)    1.0  1.0  18.0  1.0  1.0  1.0  1.0  1.0  1.0  1.0  ...  1.0  1.0   \n",
       "...         ...  ...   ...  ...  ...  ...  ...  ...  ...  ...  ...  ...  ...   \n",
       "(999, 916)  1.0  1.0   3.0  0.0  1.0  1.0  1.0  1.0  1.0  1.0  ...  1.0  1.0   \n",
       "(999, 925)  1.0  1.0   2.0  1.0  1.0  1.0  1.0  1.0  1.0  1.0  ...  1.0  1.0   \n",
       "(999, 947)  1.0  1.0   0.0  1.0  1.0  1.0  1.0  1.0  1.0  1.0  ...  1.0  1.0   \n",
       "(999, 966)  1.0  1.0   0.0  1.0  1.0  1.0  1.0  1.0  1.0  1.0  ...  1.0  1.0   \n",
       "(999, 968)  1.0  1.0   7.0  1.0  1.0  1.0  1.0  1.0  1.0  1.0  ...  1.0  1.0   \n",
       "\n",
       "             75   32   62    5   42   65   55   52  \n",
       "(0, 1)      1.0  1.0  1.0  1.0  1.0  1.0  1.0  1.0  \n",
       "(0, 10)     1.0  1.0  1.0  1.0  1.0  1.0  1.0  1.0  \n",
       "(0, 100)    1.0  1.0  1.0  1.0  1.0  1.0  1.0  1.0  \n",
       "(0, 101)    1.0  1.0  1.0  1.0  1.0  1.0  1.0  1.0  \n",
       "(0, 102)    1.0  1.0  1.0  1.0  1.0  1.0  1.0  1.0  \n",
       "...         ...  ...  ...  ...  ...  ...  ...  ...  \n",
       "(999, 916)  1.0  0.0  1.0  1.0  0.0  0.0  1.0  1.0  \n",
       "(999, 925)  1.0  1.0  0.0  1.0  1.0  1.0  0.0  1.0  \n",
       "(999, 947)  0.0  1.0  1.0  1.0  1.0  1.0  1.0  1.0  \n",
       "(999, 966)  1.0  1.0  1.0  1.0  0.0  0.0  1.0  1.0  \n",
       "(999, 968)  1.0  1.0  1.0  1.0  1.0  1.0  1.0  1.0  \n",
       "\n",
       "[176468 rows x 78 columns]"
      ]
     },
     "execution_count": 23,
     "metadata": {},
     "output_type": "execute_result"
    }
   ],
   "source": [
    "df_time_access"
   ]
  },
  {
   "cell_type": "code",
   "execution_count": 24,
   "metadata": {},
   "outputs": [
    {
     "data": {
      "text/plain": [
       "array([1., 1., 7., ..., 1., 1., 1.])"
      ]
     },
     "execution_count": 24,
     "metadata": {},
     "output_type": "execute_result"
    }
   ],
   "source": [
    "counts"
   ]
  },
  {
   "cell_type": "code",
   "execution_count": 25,
   "metadata": {},
   "outputs": [],
   "source": [
    "counts2 = counts[(counts>0) & (counts<120)]"
   ]
  },
  {
   "cell_type": "code",
   "execution_count": 27,
   "metadata": {},
   "outputs": [
    {
     "data": {
      "text/plain": [
       "array([ True,  True, False, ...,  True,  True,  True])"
      ]
     },
     "execution_count": 27,
     "metadata": {},
     "output_type": "execute_result"
    }
   ],
   "source": [
    "counts2==1"
   ]
  },
  {
   "cell_type": "code",
   "execution_count": 28,
   "metadata": {},
   "outputs": [
    {
     "data": {
      "text/plain": [
       "0.989142835972024"
      ]
     },
     "execution_count": 28,
     "metadata": {},
     "output_type": "execute_result"
    }
   ],
   "source": [
    "len(counts2[counts2==1])/len(counts2)"
   ]
  },
  {
   "cell_type": "code",
   "execution_count": null,
   "metadata": {},
   "outputs": [],
   "source": [
    "ratios = []\n",
    "for i in range(1, 11):\n",
    "    ratios.append(len(counts2[counts2==i])/len(counts2))"
   ]
  },
  {
   "cell_type": "code",
   "execution_count": null,
   "metadata": {},
   "outputs": [],
   "source": [
    "step_groupings = []\n",
    "for i in range(1, 21):\n",
    "    step_groupings.append((i, sum(counts2[counts2>i])/sum(counts2)))"
   ]
  },
  {
   "cell_type": "code",
   "execution_count": null,
   "metadata": {},
   "outputs": [],
   "source": [
    "step_groupings = np.array(step_groupings)\n",
    "l1, l2 = zip(*step_groupings)"
   ]
  },
  {
   "cell_type": "code",
   "execution_count": null,
   "metadata": {},
   "outputs": [],
   "source": [
    "step_groupings"
   ]
  },
  {
   "cell_type": "code",
   "execution_count": null,
   "metadata": {},
   "outputs": [],
   "source": [
    "\n",
    "\n",
    "step_groupings_pd = pd.DataFrame()\n",
    "step_groupings_pd['bound'] = l1\n",
    "step_groupings_pd['fraction'] = l2\n",
    "\n",
    "plt.plot(step_groupings_pd['bound'], step_groupings_pd['fraction'])\n",
    "plt.xlabel(\"traversals per step\")\n",
    "plt.ylabel(\"fraction of total traversals\")"
   ]
  },
  {
   "cell_type": "code",
   "execution_count": null,
   "metadata": {},
   "outputs": [],
   "source": [
    "plt.bar(range(1,11), np.array(ratios))\n",
    "plt.xlabel(\"traversals per step\")\n",
    "plt.ylabel(\"fraction of total traversals\")"
   ]
  },
  {
   "cell_type": "code",
   "execution_count": null,
   "metadata": {},
   "outputs": [],
   "source": [
    "plt.hist(counts2, bins=int(max(counts2)))\n",
    "plt.xlabel(\"traversals per step\")\n",
    "plt.ylabel(\"count\")"
   ]
  },
  {
   "cell_type": "code",
   "execution_count": null,
   "metadata": {},
   "outputs": [],
   "source": []
  },
  {
   "cell_type": "code",
   "execution_count": null,
   "metadata": {},
   "outputs": [],
   "source": [
    "plt.plot(df2.groupby('source_neighbors').mean()['count'])\n",
    "plt.xlabel(\"count of traversals\")\n",
    "plt.ylabel(\"source node neighbors\")"
   ]
  },
  {
   "cell_type": "code",
   "execution_count": null,
   "metadata": {},
   "outputs": [],
   "source": [
    "count_mean = df2.groupby('source_neighbors').mean()['count']"
   ]
  },
  {
   "cell_type": "code",
   "execution_count": null,
   "metadata": {},
   "outputs": [],
   "source": [
    "count_mean"
   ]
  },
  {
   "cell_type": "code",
   "execution_count": null,
   "metadata": {},
   "outputs": [],
   "source": [
    "count_mean_limit_100 = count_mean[count_mean.index < 100]\n",
    "count_mean_limit_50 = count_mean[count_mean.index < 50]\n",
    "count_mean_limit_10 = count_mean[count_mean.index < 10]"
   ]
  },
  {
   "cell_type": "code",
   "execution_count": null,
   "metadata": {},
   "outputs": [],
   "source": [
    "plt.plot(count_mean_limit_100)\n",
    "plt.ylabel(\"count of traversals\")\n",
    "plt.xlabel(\"source node neighbors\")"
   ]
  },
  {
   "cell_type": "code",
   "execution_count": null,
   "metadata": {
    "scrolled": true
   },
   "outputs": [],
   "source": [
    "plt.plot(count_mean_limit_50)\n",
    "plt.ylabel(\"count of traversals\")\n",
    "plt.xlabel(\"source node neighbors\")"
   ]
  },
  {
   "cell_type": "code",
   "execution_count": null,
   "metadata": {},
   "outputs": [],
   "source": [
    "plt.plot(count_mean_limit_10)\n",
    "plt.ylabel(\"count of traversals\")\n",
    "plt.xlabel(\"source node neighbors\")"
   ]
  },
  {
   "cell_type": "code",
   "execution_count": null,
   "metadata": {},
   "outputs": [],
   "source": [
    "plt.plot(df2.groupby('target_neighbors').mean()['count'])\n",
    "plt.ylabel(\"count of traversals\")\n",
    "plt.xlabel(\"target node neighbors\")"
   ]
  },
  {
   "cell_type": "code",
   "execution_count": null,
   "metadata": {},
   "outputs": [],
   "source": [
    "df2['count'].mean()"
   ]
  },
  {
   "cell_type": "code",
   "execution_count": null,
   "metadata": {},
   "outputs": [],
   "source": [
    "df2['count'].median()"
   ]
  },
  {
   "cell_type": "code",
   "execution_count": null,
   "metadata": {},
   "outputs": [],
   "source": [
    "max(df2['count'])"
   ]
  },
  {
   "cell_type": "code",
   "execution_count": null,
   "metadata": {},
   "outputs": [],
   "source": [
    "df2['count']"
   ]
  },
  {
   "cell_type": "code",
   "execution_count": null,
   "metadata": {},
   "outputs": [],
   "source": [
    "count_groups = df2.groupby('count').size()\n"
   ]
  },
  {
   "cell_type": "code",
   "execution_count": null,
   "metadata": {},
   "outputs": [],
   "source": [
    "count_groups"
   ]
  },
  {
   "cell_type": "code",
   "execution_count": null,
   "metadata": {},
   "outputs": [],
   "source": [
    "groupings_percentages = []\n",
    "for i in range(1, max(df2['count']), 5):\n",
    "    groupings_percentages.append((i, sum(count_groups[count_groups.index >= i])/sum(count_groups)))"
   ]
  },
  {
   "cell_type": "code",
   "execution_count": null,
   "metadata": {},
   "outputs": [],
   "source": [
    "groupings_percentages = np.array(groupings_percentages)\n",
    "l1, l2 = zip(*groupings_percentages)\n"
   ]
  },
  {
   "cell_type": "code",
   "execution_count": null,
   "metadata": {},
   "outputs": [],
   "source": [
    "pd_groupings = pd.DataFrame()\n",
    "pd_groupings['fraction'] = l2\n",
    "pd_groupings['bound'] = l1"
   ]
  },
  {
   "cell_type": "code",
   "execution_count": null,
   "metadata": {},
   "outputs": [],
   "source": [
    "max(count_groups)"
   ]
  },
  {
   "cell_type": "code",
   "execution_count": null,
   "metadata": {},
   "outputs": [],
   "source": [
    "pd_groupings"
   ]
  },
  {
   "cell_type": "code",
   "execution_count": null,
   "metadata": {},
   "outputs": [],
   "source": [
    "pd_groupings_sig = pd_groupings[(pd_groupings['fraction'] > 0.05) & (pd_groupings['fraction'] < 0.95)]"
   ]
  },
  {
   "cell_type": "code",
   "execution_count": null,
   "metadata": {},
   "outputs": [],
   "source": [
    "pd_groupings_sig"
   ]
  },
  {
   "cell_type": "code",
   "execution_count": null,
   "metadata": {},
   "outputs": [],
   "source": [
    "plt.plot(pd_groupings_sig['bound'], pd_groupings_sig['fraction'])\n",
    "plt.xlabel(\"visits in total\")\n",
    "plt.ylabel(\"fraction on total visits\")"
   ]
  },
  {
   "cell_type": "code",
   "execution_count": null,
   "metadata": {},
   "outputs": [],
   "source": [
    "plt.plot(df2.groupby('count').size())"
   ]
  },
  {
   "cell_type": "code",
   "execution_count": null,
   "metadata": {},
   "outputs": [],
   "source": [
    "count_groups = df2.groupby('count').size()\n",
    "count_groups_500 = count_groups[count_groups < 500]"
   ]
  },
  {
   "cell_type": "code",
   "execution_count": null,
   "metadata": {},
   "outputs": [],
   "source": [
    "count_groups[count_groups < 10]"
   ]
  },
  {
   "cell_type": "code",
   "execution_count": null,
   "metadata": {},
   "outputs": [],
   "source": [
    "bins = range(0, max(df2['count']), 10)\n",
    "pd.cut(count_groups, bins)"
   ]
  },
  {
   "cell_type": "code",
   "execution_count": null,
   "metadata": {},
   "outputs": [],
   "source": [
    "plt.plot(count_groups_500)"
   ]
  },
  {
   "cell_type": "code",
   "execution_count": null,
   "metadata": {},
   "outputs": [],
   "source": [
    "cut_df = pd.cut(count_groups, bins).to_frame()"
   ]
  },
  {
   "cell_type": "code",
   "execution_count": null,
   "metadata": {},
   "outputs": [],
   "source": [
    "cut_df.groupby(0).size().head(20)"
   ]
  },
  {
   "cell_type": "code",
   "execution_count": null,
   "metadata": {},
   "outputs": [],
   "source": []
  }
 ],
 "metadata": {
  "hide_input": false,
  "kernelspec": {
   "display_name": "Python 3",
   "language": "python",
   "name": "python3"
  },
  "language_info": {
   "codemirror_mode": {
    "name": "ipython",
    "version": 3
   },
   "file_extension": ".py",
   "mimetype": "text/x-python",
   "name": "python",
   "nbconvert_exporter": "python",
   "pygments_lexer": "ipython3",
   "version": "3.7.1"
  },
  "pycharm": {
   "stem_cell": {
    "cell_type": "raw",
    "metadata": {
     "collapsed": false
    },
    "source": []
   }
  }
 },
 "nbformat": 4,
 "nbformat_minor": 1
}
